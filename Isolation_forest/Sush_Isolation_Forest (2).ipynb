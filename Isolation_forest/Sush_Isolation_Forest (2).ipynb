{
  "nbformat": 4,
  "nbformat_minor": 0,
  "metadata": {
    "colab": {
      "provenance": [],
      "gpuType": "T4"
    },
    "kernelspec": {
      "name": "python3",
      "display_name": "Python 3"
    },
    "language_info": {
      "name": "python"
    },
    "accelerator": "GPU"
  },
  "cells": [
    {
      "cell_type": "code",
      "source": [
        "# NSL-KDD Anomaly Detection with Isolation Forest\n",
        "\n",
        "#My takeaways\n",
        "\n",
        "# This notebook demonstrates anomaly detection on the NSL-KDD dataset, a benchmark dataset\n",
        "# for network intrusion detection.\n",
        "\n",
        "# I downloaded it from Hugging face\n",
        "\n",
        "# The dataset contains network traffic records, each with 41 features (e.g. `duration`,\n",
        "# `protocol_type`, `service`, `flag`, `src_bytes`, `dst_bytes`, etc.) and a label indicating\n",
        "# whether the connection is normal or an attack.\n",
        "\n",
        "# Attack categories include:\n",
        "# - DoS / DDoS (Denial of Service)** → flooding a network with traffic\n",
        "# - Probe → scanning to gather information\n",
        "# - R2L (Remote to Local)** → unauthorized access from a remote machine\n",
        "# - U2R (User to Root)** → privilege escalation attacks\n",
        "\n",
        "# ### Columns (examples):\n",
        "# - duration → length of the connection\n",
        "# - protocol_type` → type of protocol (TCP, UDP, ICMP)\n",
        "# - service → network service (HTTP, FTP, SMTP, etc.)\n",
        "# - flag → status flag of the connection\n",
        "# - src_bytes, dst_bytes → number of bytes sent/received\n",
        "# - label → normal or the type of attack\n",
        "\n",
        "# ### Goal\n",
        "# We apply the **Isolation Forest** algorithm (an unsupervised anomaly detection method)\n",
        "# to identify malicious connections (attacks) in the dataset.\n",
        "\n",
        "# Even though Isolation Forest is unsupervised, the labels in NSL-KDD allow us to\n",
        "# evaluate the model’s accuracy in detecting anomalies (attacks). Making it semi-supervised\n",
        "\n",
        "#afterall goal of isolation tree is to ostracize every data point in a leaf if we keep slpittting Long enough"
      ],
      "metadata": {
        "id": "-KmAAMM-28z-"
      },
      "execution_count": null,
      "outputs": []
    },
    {
      "cell_type": "code",
      "source": [
        "!pip install datasets\n",
        "\n",
        "from datasets import load_dataset\n",
        "import pandas as pd\n",
        "\n",
        "# Loading   NSL-KDD dataset from Hugging Face\n",
        "dataset = load_dataset(\"Mireu-Lab/NSL-KDD\")\n",
        "\n",
        "# Converting splits to pandas DataFrames\n",
        "df_train = pd.DataFrame(dataset[\"train\"])\n",
        "df_test = pd.DataFrame(dataset[\"test\"])\n",
        "\n"
      ],
      "metadata": {
        "id": "cOEViEOQ2xdZ"
      },
      "execution_count": null,
      "outputs": []
    },
    {
      "cell_type": "code",
      "source": [
        "\n",
        "print(\"Train shape:\", df_train.shape)\n",
        "print(\"Test shape:\", df_test.shape)"
      ],
      "metadata": {
        "id": "1rvG2hVN2xxo"
      },
      "execution_count": null,
      "outputs": []
    },
    {
      "cell_type": "code",
      "source": [
        "df_train.head()"
      ],
      "metadata": {
        "id": "9ccuPa2Y4MTH"
      },
      "execution_count": null,
      "outputs": []
    },
    {
      "cell_type": "code",
      "source": [
        "#Again please note\n",
        "# Even though Isolation Forest is unsupervised, the labels in NSL-KDD allow us to\n",
        "# evaluate the model’s accuracy in detecting anomalies (attacks).Classs are normal anmd  anomaly or attack"
      ],
      "metadata": {
        "id": "A0hP5cip4KKZ"
      },
      "execution_count": null,
      "outputs": []
    },
    {
      "cell_type": "code",
      "source": [
        "#importing more necessary packages\n",
        "import numpy as np\n",
        "import pandas as pd\n",
        "from sklearn.ensemble import IsolationForest\n",
        "from sklearn.preprocessing import OneHotEncoder, StandardScaler\n",
        "from sklearn.compose import ColumnTransformer\n",
        "from sklearn.metrics import classification_report, confusion_matrix, roc_auc_score\n",
        "from sklearn.pipeline import make_pipeline\n",
        "import joblib\n",
        "import os"
      ],
      "metadata": {
        "id": "bc6sXGgC5ETa"
      },
      "execution_count": null,
      "outputs": []
    },
    {
      "cell_type": "code",
      "source": [
        "LABEL_COL = \"class\"\n",
        "\n",
        "\n",
        "\n",
        "# Spliting my  features and target in training dataset\n",
        "X_train_raw = df_train.drop(columns=[LABEL_COL])\n",
        "y_train_raw = df_train[LABEL_COL]"
      ],
      "metadata": {
        "id": "iCKug7lb5JHm"
      },
      "execution_count": null,
      "outputs": []
    },
    {
      "cell_type": "code",
      "source": [
        "mask_norm = y_train_raw == \"normal\"\n",
        "\n",
        "X_train_raw = X_train_raw[mask_norm]\n",
        "\n",
        "#My X train should only be trained on normal pts .Then only when it sees an anomalous\n",
        "# pt in Y test it will quickly split  it out"
      ],
      "metadata": {
        "id": "Ic7FMWX3BUik"
      },
      "execution_count": null,
      "outputs": []
    },
    {
      "cell_type": "code",
      "source": [
        "# Spliting my  features and target in testing  dataset\n",
        "X_test_raw = df_test.drop(columns=[LABEL_COL])\n",
        "\n",
        "label_map = {\"normal\": 0, \"anomaly\": 1}\n",
        "\n",
        "# Apply mapping to create y_test\n",
        "y_test = df_test[LABEL_COL].map(label_map).values\n"
      ],
      "metadata": {
        "id": "t8dT1Bot6cML"
      },
      "execution_count": null,
      "outputs": []
    },
    {
      "cell_type": "code",
      "source": [
        "#Preprocessing and segregating my numerical and categorical columns\n",
        "categorical_cols = [\"protocol_type\", \"service\", \"flag\"]\n",
        "numeric_cols = [c for c in X_train_raw.columns if c not in categorical_cols] # running a for loop"
      ],
      "metadata": {
        "id": "Jc-EYG3q7Hwb"
      },
      "execution_count": null,
      "outputs": []
    },
    {
      "cell_type": "code",
      "source": [
        "ct = ColumnTransformer(\n",
        "    transformers=[\n",
        "        (\"ohe\", OneHotEncoder(handle_unknown=\"ignore\", sparse_output=False), categorical_cols),#applying on hot encoding to avoid mutlicolinerity trap to cat_columns\n",
        "        (\"scale\", StandardScaler(), numeric_cols),  # scalinmg numerical columns\n",
        "    ]\n",
        ")\n",
        "\n",
        "#ColumnTransformer from scikit-learn lets us apply different preprocessing to different feature types in a single pipeline.\n",
        "#The parameter handle_unknown=\"ignore\" ensures the model won’t crash if the test set introduces a category not seen during training (e.g., icmp showing up only in test).\n",
        "# We also set sparse=False so that the encoder returns a dense array instead of a sparse matrix,give all 0 and 1\n",
        "# which makes it easier to combine with scaled numeric features before training the Isolation Forest.\n"
      ],
      "metadata": {
        "id": "1ySWI9wI84mI"
      },
      "execution_count": null,
      "outputs": []
    },
    {
      "cell_type": "code",
      "source": [
        "# transforming my X train raw and X test raw\n",
        "\n",
        "X_train = ct.fit_transform(X_train_raw)\n",
        "X_test  = ct.transform(X_test_raw)\n",
        "\n",
        "print(\"Transformed train shape:\", X_train.shape)\n",
        "print(\"Transformed test shape:\", X_test.shape)"
      ],
      "metadata": {
        "id": "l7O04LQ_9suU"
      },
      "execution_count": null,
      "outputs": []
    },
    {
      "cell_type": "markdown",
      "source": [
        "**ISOLATION FOREST **\n",
        "\n",
        "---\n",
        "\n"
      ],
      "metadata": {
        "id": "WQGJDcSH_enb"
      }
    },
    {
      "cell_type": "code",
      "source": [
        "###training my isolation forest model -\n",
        "\n",
        "#Susnata's Isolation forest we will find out those anomalies :V\n",
        "\n",
        "from sklearn.ensemble import IsolationForest\n",
        "\n",
        "susnata_iso = IsolationForest(\n",
        "    n_estimators=200,        # number of trees in the forest (more trees = more stable but slower)\n",
        "    max_samples=256,         # number of data points sampled to build each tree\n",
        "    contamination=0.28,    # threshold for anomalies set to \"auto\" because y_test.mean() can exceed 0.5 and isolation\n",
        "                              #Forest it supports upto0.5.From auto i tried tweaking it to see what give me best recall for positive fraud class\n",
        "\n",
        "    max_features=1.0,        # fraction of features used at each split 1.0 = use all features\n",
        "    bootstrap=False,         # whether to sample data points with replacement (default = False)like boostrap aggrgation In RF\n",
        "    n_jobs=-1,               # use all CPU cores for faster training\n",
        "    random_state=42          # for reproducibility of results\n",
        ")\n",
        "\n",
        "susnata_iso.fit(X_train)  # fitting only on \"normal\" data"
      ],
      "metadata": {
        "id": "MS3Rg9L8_hJ9"
      },
      "execution_count": null,
      "outputs": []
    },
    {
      "cell_type": "code",
      "source": [
        "# Predicting  on test data that has both normal and anomalous\n",
        "\n",
        "# if we see the anomaly score formula pts which are 1 is anomalous 0.5 is boderline and 0 is normal\n",
        "\n",
        "#hence reverse mapping accordingly\n",
        "\n",
        "pred_map = {-1: 1, 1: 0}   # -1 = anomaly, 1 = normal\n",
        "y_pred = pd.Series(susnata_iso.predict(X_test)).map(pred_map).values\n"
      ],
      "metadata": {
        "id": "bjUdg8fq_n4M"
      },
      "execution_count": null,
      "outputs": []
    },
    {
      "cell_type": "code",
      "source": [
        "# Evaluating\n",
        "from sklearn.metrics import classification_report, confusion_matrix, roc_auc_score\n",
        "\n",
        "print(\"Confusion Matrix:\\n\", confusion_matrix(y_test, y_pred))\n",
        "print(\"\\nClassification Report:\\n\", classification_report(y_test, y_pred, digits=4))\n",
        "\n"
      ],
      "metadata": {
        "colab": {
          "base_uri": "https://localhost:8080/"
        },
        "id": "GHtLcLtnGZFO",
        "outputId": "48669790-a1d0-4e71-978a-9bb309b4cf2b"
      },
      "execution_count": 24,
      "outputs": [
        {
          "output_type": "stream",
          "name": "stdout",
          "text": [
            "Confusion Matrix:\n",
            " [[ 8492  3371]\n",
            " [ 2408 20123]]\n",
            "\n",
            "Classification Report:\n",
            "               precision    recall  f1-score   support\n",
            "\n",
            "           0     0.7791    0.7158    0.7461     11863\n",
            "           1     0.8565    0.8931    0.8744     22531\n",
            "\n",
            "    accuracy                         0.8320     34394\n",
            "   macro avg     0.8178    0.8045    0.8103     34394\n",
            "weighted avg     0.8298    0.8320    0.8302     34394\n",
            "\n"
          ]
        }
      ]
    },
    {
      "cell_type": "code",
      "source": [
        "#My Takeaways\n",
        "\n",
        "### Confusion Matrix Explanation\n",
        "# - TN (8492): Normal traffic correctly identified as normal.\n",
        "# - FP (3371): Normal traffic incorrectly flagged as an attack (false alarms).\n",
        "# - FN (2408): Attacks that were missed and classified as normal.\n",
        "# - TP (20123): Attacks correctly identified as attacks.\n",
        "\n",
        "# This gives:\n",
        "# - Precision (Anomalies) ≈ 0.856 → when the model flags an attack, it’s correct 85% of the time.\n",
        "# - Recall (Anomalies) ≈ 0.893 → the model catches ~89% of all attacks.\n",
        "\n",
        "#  In anomaly detection, **recall is critical** (we don’t want to miss attacks).\n",
        "#  Here, the model achieves **high recall with good precision**, making it effective for intrusion detection."
      ],
      "metadata": {
        "id": "zC-q5BJyIu56"
      },
      "execution_count": null,
      "outputs": []
    },
    {
      "cell_type": "code",
      "source": [
        "scores = -susnata_iso.decision_function(X_test)\n",
        "roc = roc_auc_score(y_test, scores)\n",
        "print(f\"\\nROC AUC: {roc:.4f}\")"
      ],
      "metadata": {
        "colab": {
          "base_uri": "https://localhost:8080/"
        },
        "id": "GhGt_VocGsWE",
        "outputId": "d81870b8-f24c-4da0-dba0-1d71a7b68628"
      },
      "execution_count": 25,
      "outputs": [
        {
          "output_type": "stream",
          "name": "stdout",
          "text": [
            "\n",
            "ROC AUC: 0.9009\n"
          ]
        }
      ]
    },
    {
      "cell_type": "code",
      "source": [
        "### Evaluating Model with ROC AUC\n",
        "\n",
        "# - I am using -decision_function\n",
        "\n",
        "#   The Isolation Forest’s decision_function assigns **positive scores to normal points** and **negative scores to anomalies**.\n",
        "#   Since we want higher scores = higher anomaly likelihood (for evaluation consistency), we negate the output.\n",
        "#   This ensures that anomalies get higher scores, which aligns with ROC AUC and other anomaly detection metrics.\n",
        "\n",
        "\n",
        "#   ROC AUC measures the model’s ability to rank anomalies higher than normal traffic, independent of the classification threshold.\n",
        "#   - 0.5 = random guessing\n",
        "#   - 1.0 = perfect ranking\n",
        "#   In our case, **ROC AUC = 0.9009**, showing the model is very effective at distinguishing anomalies from normal traffic.\n"
      ],
      "metadata": {
        "id": "baz5vYgKJKOY"
      },
      "execution_count": null,
      "outputs": []
    },
    {
      "cell_type": "code",
      "source": [
        "#Visualizing auc roc curve\n",
        "\n",
        "\n",
        "from sklearn.metrics import roc_curve, auc\n",
        "import matplotlib.pyplot as plt\n",
        "\n",
        "# Using  flipped decision scores\n",
        "scores = -susnata_iso.decision_function(X_test)\n",
        "\n",
        "# Computing ROC curve and AUC\n",
        "fpr, tpr, thresholds = roc_curve(y_test, scores)\n",
        "roc_auc = auc(fpr, tpr)\n",
        "\n",
        "# Plot ROC Curve\n",
        "plt.figure(figsize=(6, 6))\n",
        "plt.plot(fpr, tpr, color=\"blue\", lw=2, label=f\"ROC curve (AUC = {roc_auc:.4f})\")\n",
        "plt.plot([0, 1], [0, 1], color=\"red\", linestyle=\"--\", label=\"Random guessing\")\n",
        "plt.xlabel(\"False Positive Rate\")\n",
        "plt.ylabel(\"True Positive Rate (Recall)\")\n",
        "plt.title(\"ROC Curve - Isolation Forest\")\n",
        "plt.legend(loc=\"lower right\")\n",
        "plt.grid(True)\n",
        "plt.show()"
      ],
      "metadata": {
        "colab": {
          "base_uri": "https://localhost:8080/",
          "height": 564
        },
        "id": "sRRmNia3Kq2O",
        "outputId": "b7bfef45-1739-471d-d021-0f6fb2c69871"
      },
      "execution_count": 23,
      "outputs": [
        {
          "output_type": "display_data",
          "data": {
            "text/plain": [
              "<Figure size 600x600 with 1 Axes>"
            ],
            "image/png": "[encoded data removed]"
          },
          "metadata": {}
        }
      ]
    },
    {
      "cell_type": "code",
      "source": [
        "import joblib\n",
        "\n",
        "from google.colab import files\n",
        "\n",
        "# Saving the trained model\n",
        "joblib.dump(susnata_iso, \"isolation_forest_model.joblib\")\n",
        "\n",
        "# Downloading in  my  local machine\n",
        "files.download(\"isolation_forest_model.joblib\")\n",
        "\n",
        "\n",
        "# Loading it later\n",
        "# loaded_iso = joblib.load(\"isolation_forest_model.joblib\")\n",
        "\n",
        "#If i want to reuse the model later\n",
        "# y_loaded_pred = loaded_iso.predict(X_test)"
      ],
      "metadata": {
        "id": "vOoAyBZ_KrVr"
      },
      "execution_count": null,
      "outputs": []
    },
    {
      "cell_type": "markdown",
      "source": [
        "My Isolation Forest achieved ~0.9 AUC and ~0.89 recall for fraud detection, meaning it detects ~9 out of 10 attacks while keeping false positives under control.”"
      ],
      "metadata": {
        "id": "emvHiRU6PVA_"
      }
    },
    {
      "cell_type": "markdown",
      "source": [],
      "metadata": {
        "id": "ileWRkyqPT4j"
      }
    },
    {
      "cell_type": "markdown",
      "source": [],
      "metadata": {
        "id": "X1segwVBPT1_"
      }
    }
  ]
}