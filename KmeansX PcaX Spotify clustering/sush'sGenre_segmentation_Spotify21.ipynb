{
  "nbformat": 4,
  "nbformat_minor": 0,
  "metadata": {
    "colab": {
      "provenance": []
    },
    "kernelspec": {
      "name": "python3",
      "display_name": "Python 3"
    },
    "language_info": {
      "name": "python"
    }
  },
  "cells": [
    {
      "cell_type": "markdown",
      "source": [
        "This notebook performs music genre segmentation on a large Spotify tracks dataset. We first clean and scale key audio features (danceability, energy, tempo, etc.) and apply Principal Component Analysis (PCA) to reduce high-dimensional data into 3 interpretable components that capture most of the variance. We then run K-means clustering (k=4) in this reduced space to group songs into distinct musical clusters. These clusters are profiled based on their average feature values and labeled with fun, interpretable names — Dance Floor 🎉, Chill Zone ☁️, Break-Up Corner 💔, Rap Stage 🔥. Finally, we visualize the results using both Matplotlib (static 3D) and Plotly (interactive 3D), and examine PCA loadings to understand how original features contribute to each principal component."
      ],
      "metadata": {
        "id": "kE3gh_e4OliU"
      }
    },
    {
      "cell_type": "code",
      "execution_count": null,
      "metadata": {
        "id": "hy5E9uOt50ce"
      },
      "outputs": [],
      "source": [
        "#Installing my dependencies\n",
        "\n",
        "!pip install -q datasets pandas scikit-learn matplotlib seaborn"
      ]
    },
    {
      "cell_type": "code",
      "source": [
        "import pandas as pd\n",
        "from datasets import load_dataset\n",
        "from sklearn.preprocessing import StandardScaler\n",
        "from sklearn.decomposition import PCA\n",
        "from sklearn.cluster import KMeans\n",
        "import matplotlib.pyplot as plt\n",
        "import seaborn as sns\n",
        "\n",
        "#Importing packages necessary"
      ],
      "metadata": {
        "id": "luhQbuFRCHbz"
      },
      "execution_count": null,
      "outputs": []
    },
    {
      "cell_type": "code",
      "source": [
        "#importing the dataset and creating a dataframe\n",
        "\n",
        "ds = load_dataset(\"maharshipandya/spotify-tracks-dataset\", split=\"train\")\n",
        "df = ds.to_pandas()\n"
      ],
      "metadata": {
        "id": "o-Jk4KxWCHpC"
      },
      "execution_count": null,
      "outputs": []
    },
    {
      "cell_type": "code",
      "source": [
        "df.shape  # arround 114 k musicheads 25 attributes"
      ],
      "metadata": {
        "colab": {
          "base_uri": "https://localhost:8080/"
        },
        "id": "iO3xFUjDJGHq",
        "outputId": "1d292a81-eb43-478d-e750-6bfa8fc837fd"
      },
      "execution_count": 59,
      "outputs": [
        {
          "output_type": "execute_result",
          "data": {
            "text/plain": [
              "(113999, 26)"
            ]
          },
          "metadata": {},
          "execution_count": 59
        }
      ]
    },
    {
      "cell_type": "code",
      "source": [
        "df.head()"
      ],
      "metadata": {
        "colab": {
          "base_uri": "https://localhost:8080/",
          "height": 411
        },
        "id": "yazn-EyzCH5O",
        "outputId": "c18dfa28-baf0-4307-aa35-aaab9b44eaec"
      },
      "execution_count": 60,
      "outputs": [
        {
          "output_type": "execute_result",
          "data": {
            "text/plain": [
              "   Unnamed: 0                track_id                 artists  \\\n",
              "0           0  5SuOikwiRyPMVoIQDJUgSV             Gen Hoshino   \n",
              "1           1  4qPNDBW1i3p13qLCt0Ki3A            Ben Woodward   \n",
              "2           2  1iJBSr7s7jYXzM8EGcbK5b  Ingrid Michaelson;ZAYN   \n",
              "3           3  6lfxq3CG4xtTiEg7opyCyx            Kina Grannis   \n",
              "4           4  5vjLSffimiIP26QG5WcN2K        Chord Overstreet   \n",
              "\n",
              "                                          album_name  \\\n",
              "0                                             Comedy   \n",
              "1                                   Ghost (Acoustic)   \n",
              "2                                     To Begin Again   \n",
              "3  Crazy Rich Asians (Original Motion Picture Sou...   \n",
              "4                                            Hold On   \n",
              "\n",
              "                   track_name  popularity  duration_ms  explicit  \\\n",
              "0                      Comedy          73       230666     False   \n",
              "1            Ghost - Acoustic          55       149610     False   \n",
              "2              To Begin Again          57       210826     False   \n",
              "3  Can't Help Falling In Love          71       201933     False   \n",
              "4                     Hold On          82       198853     False   \n",
              "\n",
              "   danceability  energy  ...  liveness  valence    tempo  time_signature  \\\n",
              "0         0.676  0.4610  ...    0.3580    0.715   87.917               4   \n",
              "1         0.420  0.1660  ...    0.1010    0.267   77.489               4   \n",
              "2         0.438  0.3590  ...    0.1170    0.120   76.332               4   \n",
              "3         0.266  0.0596  ...    0.1320    0.143  181.740               3   \n",
              "4         0.618  0.4430  ...    0.0829    0.167  119.949               4   \n",
              "\n",
              "   track_genre       PC1       PC2       PC3  cluster   cluster_name  \n",
              "0     acoustic  0.641632  1.022316  0.623221        0  Dance Floor 🎉  \n",
              "1     acoustic -3.317625  1.309056  0.411511        1  Chill Zone ☁️  \n",
              "2     acoustic -1.386014 -0.164048 -0.135201        1  Chill Zone ☁️  \n",
              "3     acoustic -3.375371 -0.331049  0.181523        1  Chill Zone ☁️  \n",
              "4     acoustic -0.984432  0.301572 -0.447188        1  Chill Zone ☁️  \n",
              "\n",
              "[5 rows x 26 columns]"
            ],
            "text/html": [
              "\n",
              "  <div id=\"df-47e5e7cc-e3c8-4b8c-b901-9eac9643aa98\" class=\"colab-df-container\">\n",
              "    <div>\n",
              "<style scoped>\n",
              "    .dataframe tbody tr th:only-of-type {\n",
              "        vertical-align: middle;\n",
              "    }\n",
              "\n",
              "    .dataframe tbody tr th {\n",
              "        vertical-align: top;\n",
              "    }\n",
              "\n",
              "    .dataframe thead th {\n",
              "        text-align: right;\n",
              "    }\n",
              "</style>\n",
              "<table border=\"1\" class=\"dataframe\">\n",
              "  <thead>\n",
              "    <tr style=\"text-align: right;\">\n",
              "      <th></th>\n",
              "      <th>Unnamed: 0</th>\n",
              "      <th>track_id</th>\n",
              "      <th>artists</th>\n",
              "      <th>album_name</th>\n",
              "      <th>track_name</th>\n",
              "      <th>popularity</th>\n",
              "      <th>duration_ms</th>\n",
              "      <th>explicit</th>\n",
              "      <th>danceability</th>\n",
              "      <th>energy</th>\n",
              "      <th>...</th>\n",
              "      <th>liveness</th>\n",
              "      <th>valence</th>\n",
              "      <th>tempo</th>\n",
              "      <th>time_signature</th>\n",
              "      <th>track_genre</th>\n",
              "      <th>PC1</th>\n",
              "      <th>PC2</th>\n",
              "      <th>PC3</th>\n",
              "      <th>cluster</th>\n",
              "      <th>cluster_name</th>\n",
              "    </tr>\n",
              "  </thead>\n",
              "  <tbody>\n",
              "    <tr>\n",
              "      <th>0</th>\n",
              "      <td>0</td>\n",
              "      <td>5SuOikwiRyPMVoIQDJUgSV</td>\n",
              "      <td>Gen Hoshino</td>\n",
              "      <td>Comedy</td>\n",
              "      <td>Comedy</td>\n",
              "      <td>73</td>\n",
              "      <td>230666</td>\n",
              "      <td>False</td>\n",
              "      <td>0.676</td>\n",
              "      <td>0.4610</td>\n",
              "      <td>...</td>\n",
              "      <td>0.3580</td>\n",
              "      <td>0.715</td>\n",
              "      <td>87.917</td>\n",
              "      <td>4</td>\n",
              "      <td>acoustic</td>\n",
              "      <td>0.641632</td>\n",
              "      <td>1.022316</td>\n",
              "      <td>0.623221</td>\n",
              "      <td>0</td>\n",
              "      <td>Dance Floor 🎉</td>\n",
              "    </tr>\n",
              "    <tr>\n",
              "      <th>1</th>\n",
              "      <td>1</td>\n",
              "      <td>4qPNDBW1i3p13qLCt0Ki3A</td>\n",
              "      <td>Ben Woodward</td>\n",
              "      <td>Ghost (Acoustic)</td>\n",
              "      <td>Ghost - Acoustic</td>\n",
              "      <td>55</td>\n",
              "      <td>149610</td>\n",
              "      <td>False</td>\n",
              "      <td>0.420</td>\n",
              "      <td>0.1660</td>\n",
              "      <td>...</td>\n",
              "      <td>0.1010</td>\n",
              "      <td>0.267</td>\n",
              "      <td>77.489</td>\n",
              "      <td>4</td>\n",
              "      <td>acoustic</td>\n",
              "      <td>-3.317625</td>\n",
              "      <td>1.309056</td>\n",
              "      <td>0.411511</td>\n",
              "      <td>1</td>\n",
              "      <td>Chill Zone ☁️</td>\n",
              "    </tr>\n",
              "    <tr>\n",
              "      <th>2</th>\n",
              "      <td>2</td>\n",
              "      <td>1iJBSr7s7jYXzM8EGcbK5b</td>\n",
              "      <td>Ingrid Michaelson;ZAYN</td>\n",
              "      <td>To Begin Again</td>\n",
              "      <td>To Begin Again</td>\n",
              "      <td>57</td>\n",
              "      <td>210826</td>\n",
              "      <td>False</td>\n",
              "      <td>0.438</td>\n",
              "      <td>0.3590</td>\n",
              "      <td>...</td>\n",
              "      <td>0.1170</td>\n",
              "      <td>0.120</td>\n",
              "      <td>76.332</td>\n",
              "      <td>4</td>\n",
              "      <td>acoustic</td>\n",
              "      <td>-1.386014</td>\n",
              "      <td>-0.164048</td>\n",
              "      <td>-0.135201</td>\n",
              "      <td>1</td>\n",
              "      <td>Chill Zone ☁️</td>\n",
              "    </tr>\n",
              "    <tr>\n",
              "      <th>3</th>\n",
              "      <td>3</td>\n",
              "      <td>6lfxq3CG4xtTiEg7opyCyx</td>\n",
              "      <td>Kina Grannis</td>\n",
              "      <td>Crazy Rich Asians (Original Motion Picture Sou...</td>\n",
              "      <td>Can't Help Falling In Love</td>\n",
              "      <td>71</td>\n",
              "      <td>201933</td>\n",
              "      <td>False</td>\n",
              "      <td>0.266</td>\n",
              "      <td>0.0596</td>\n",
              "      <td>...</td>\n",
              "      <td>0.1320</td>\n",
              "      <td>0.143</td>\n",
              "      <td>181.740</td>\n",
              "      <td>3</td>\n",
              "      <td>acoustic</td>\n",
              "      <td>-3.375371</td>\n",
              "      <td>-0.331049</td>\n",
              "      <td>0.181523</td>\n",
              "      <td>1</td>\n",
              "      <td>Chill Zone ☁️</td>\n",
              "    </tr>\n",
              "    <tr>\n",
              "      <th>4</th>\n",
              "      <td>4</td>\n",
              "      <td>5vjLSffimiIP26QG5WcN2K</td>\n",
              "      <td>Chord Overstreet</td>\n",
              "      <td>Hold On</td>\n",
              "      <td>Hold On</td>\n",
              "      <td>82</td>\n",
              "      <td>198853</td>\n",
              "      <td>False</td>\n",
              "      <td>0.618</td>\n",
              "      <td>0.4430</td>\n",
              "      <td>...</td>\n",
              "      <td>0.0829</td>\n",
              "      <td>0.167</td>\n",
              "      <td>119.949</td>\n",
              "      <td>4</td>\n",
              "      <td>acoustic</td>\n",
              "      <td>-0.984432</td>\n",
              "      <td>0.301572</td>\n",
              "      <td>-0.447188</td>\n",
              "      <td>1</td>\n",
              "      <td>Chill Zone ☁️</td>\n",
              "    </tr>\n",
              "  </tbody>\n",
              "</table>\n",
              "<p>5 rows × 26 columns</p>\n",
              "</div>\n",
              "    <div class=\"colab-df-buttons\">\n",
              "\n",
              "  <div class=\"colab-df-container\">\n",
              "    <button class=\"colab-df-convert\" onclick=\"convertToInteractive('df-47e5e7cc-e3c8-4b8c-b901-9eac9643aa98')\"\n",
              "            title=\"Convert this dataframe to an interactive table.\"\n",
              "            style=\"display:none;\">\n",
              "\n",
              "  <svg xmlns=\"http://www.w3.org/2000/svg\" height=\"24px\" viewBox=\"0 -960 960 960\">\n",
              "    <path d=\"M120-120v-720h720v720H120Zm60-500h600v-160H180v160Zm220 220h160v-160H400v160Zm0 220h160v-160H400v160ZM180-400h160v-160H180v160Zm440 0h160v-160H620v160ZM180-180h160v-160H180v160Zm440 0h160v-160H620v160Z\"/>\n",
              "  </svg>\n",
              "    </button>\n",
              "\n",
              "  <style>\n",
              "    .colab-df-container {\n",
              "      display:flex;\n",
              "      gap: 12px;\n",
              "    }\n",
              "\n",
              "    .colab-df-convert {\n",
              "      background-color: #E8F0FE;\n",
              "      border: none;\n",
              "      border-radius: 50%;\n",
              "      cursor: pointer;\n",
              "      display: none;\n",
              "      fill: #1967D2;\n",
              "      height: 32px;\n",
              "      padding: 0 0 0 0;\n",
              "      width: 32px;\n",
              "    }\n",
              "\n",
              "    .colab-df-convert:hover {\n",
              "      background-color: #E2EBFA;\n",
              "      box-shadow: 0px 1px 2px rgba(60, 64, 67, 0.3), 0px 1px 3px 1px rgba(60, 64, 67, 0.15);\n",
              "      fill: #174EA6;\n",
              "    }\n",
              "\n",
              "    .colab-df-buttons div {\n",
              "      margin-bottom: 4px;\n",
              "    }\n",
              "\n",
              "    [theme=dark] .colab-df-convert {\n",
              "      background-color: #3B4455;\n",
              "      fill: #D2E3FC;\n",
              "    }\n",
              "\n",
              "    [theme=dark] .colab-df-convert:hover {\n",
              "      background-color: #434B5C;\n",
              "      box-shadow: 0px 1px 3px 1px rgba(0, 0, 0, 0.15);\n",
              "      filter: drop-shadow(0px 1px 2px rgba(0, 0, 0, 0.3));\n",
              "      fill: #FFFFFF;\n",
              "    }\n",
              "  </style>\n",
              "\n",
              "    <script>\n",
              "      const buttonEl =\n",
              "        document.querySelector('#df-47e5e7cc-e3c8-4b8c-b901-9eac9643aa98 button.colab-df-convert');\n",
              "      buttonEl.style.display =\n",
              "        google.colab.kernel.accessAllowed ? 'block' : 'none';\n",
              "\n",
              "      async function convertToInteractive(key) {\n",
              "        const element = document.querySelector('#df-47e5e7cc-e3c8-4b8c-b901-9eac9643aa98');\n",
              "        const dataTable =\n",
              "          await google.colab.kernel.invokeFunction('convertToInteractive',\n",
              "                                                    [key], {});\n",
              "        if (!dataTable) return;\n",
              "\n",
              "        const docLinkHtml = 'Like what you see? Visit the ' +\n",
              "          '<a target=\"_blank\" href=https://colab.research.google.com/notebooks/data_table.ipynb>data table notebook</a>'\n",
              "          + ' to learn more about interactive tables.';\n",
              "        element.innerHTML = '';\n",
              "        dataTable['output_type'] = 'display_data';\n",
              "        await google.colab.output.renderOutput(dataTable, element);\n",
              "        const docLink = document.createElement('div');\n",
              "        docLink.innerHTML = docLinkHtml;\n",
              "        element.appendChild(docLink);\n",
              "      }\n",
              "    </script>\n",
              "  </div>\n",
              "\n",
              "\n",
              "    <div id=\"df-696cc888-f0bc-4e5f-89cf-49634e41692a\">\n",
              "      <button class=\"colab-df-quickchart\" onclick=\"quickchart('df-696cc888-f0bc-4e5f-89cf-49634e41692a')\"\n",
              "                title=\"Suggest charts\"\n",
              "                style=\"display:none;\">\n",
              "\n",
              "<svg xmlns=\"http://www.w3.org/2000/svg\" height=\"24px\"viewBox=\"0 0 24 24\"\n",
              "     width=\"24px\">\n",
              "    <g>\n",
              "        <path d=\"M19 3H5c-1.1 0-2 .9-2 2v14c0 1.1.9 2 2 2h14c1.1 0 2-.9 2-2V5c0-1.1-.9-2-2-2zM9 17H7v-7h2v7zm4 0h-2V7h2v10zm4 0h-2v-4h2v4z\"/>\n",
              "    </g>\n",
              "</svg>\n",
              "      </button>\n",
              "\n",
              "<style>\n",
              "  .colab-df-quickchart {\n",
              "      --bg-color: #E8F0FE;\n",
              "      --fill-color: #1967D2;\n",
              "      --hover-bg-color: #E2EBFA;\n",
              "      --hover-fill-color: #174EA6;\n",
              "      --disabled-fill-color: #AAA;\n",
              "      --disabled-bg-color: #DDD;\n",
              "  }\n",
              "\n",
              "  [theme=dark] .colab-df-quickchart {\n",
              "      --bg-color: #3B4455;\n",
              "      --fill-color: #D2E3FC;\n",
              "      --hover-bg-color: #434B5C;\n",
              "      --hover-fill-color: #FFFFFF;\n",
              "      --disabled-bg-color: #3B4455;\n",
              "      --disabled-fill-color: #666;\n",
              "  }\n",
              "\n",
              "  .colab-df-quickchart {\n",
              "    background-color: var(--bg-color);\n",
              "    border: none;\n",
              "    border-radius: 50%;\n",
              "    cursor: pointer;\n",
              "    display: none;\n",
              "    fill: var(--fill-color);\n",
              "    height: 32px;\n",
              "    padding: 0;\n",
              "    width: 32px;\n",
              "  }\n",
              "\n",
              "  .colab-df-quickchart:hover {\n",
              "    background-color: var(--hover-bg-color);\n",
              "    box-shadow: 0 1px 2px rgba(60, 64, 67, 0.3), 0 1px 3px 1px rgba(60, 64, 67, 0.15);\n",
              "    fill: var(--button-hover-fill-color);\n",
              "  }\n",
              "\n",
              "  .colab-df-quickchart-complete:disabled,\n",
              "  .colab-df-quickchart-complete:disabled:hover {\n",
              "    background-color: var(--disabled-bg-color);\n",
              "    fill: var(--disabled-fill-color);\n",
              "    box-shadow: none;\n",
              "  }\n",
              "\n",
              "  .colab-df-spinner {\n",
              "    border: 2px solid var(--fill-color);\n",
              "    border-color: transparent;\n",
              "    border-bottom-color: var(--fill-color);\n",
              "    animation:\n",
              "      spin 1s steps(1) infinite;\n",
              "  }\n",
              "\n",
              "  @keyframes spin {\n",
              "    0% {\n",
              "      border-color: transparent;\n",
              "      border-bottom-color: var(--fill-color);\n",
              "      border-left-color: var(--fill-color);\n",
              "    }\n",
              "    20% {\n",
              "      border-color: transparent;\n",
              "      border-left-color: var(--fill-color);\n",
              "      border-top-color: var(--fill-color);\n",
              "    }\n",
              "    30% {\n",
              "      border-color: transparent;\n",
              "      border-left-color: var(--fill-color);\n",
              "      border-top-color: var(--fill-color);\n",
              "      border-right-color: var(--fill-color);\n",
              "    }\n",
              "    40% {\n",
              "      border-color: transparent;\n",
              "      border-right-color: var(--fill-color);\n",
              "      border-top-color: var(--fill-color);\n",
              "    }\n",
              "    60% {\n",
              "      border-color: transparent;\n",
              "      border-right-color: var(--fill-color);\n",
              "    }\n",
              "    80% {\n",
              "      border-color: transparent;\n",
              "      border-right-color: var(--fill-color);\n",
              "      border-bottom-color: var(--fill-color);\n",
              "    }\n",
              "    90% {\n",
              "      border-color: transparent;\n",
              "      border-bottom-color: var(--fill-color);\n",
              "    }\n",
              "  }\n",
              "</style>\n",
              "\n",
              "      <script>\n",
              "        async function quickchart(key) {\n",
              "          const quickchartButtonEl =\n",
              "            document.querySelector('#' + key + ' button');\n",
              "          quickchartButtonEl.disabled = true;  // To prevent multiple clicks.\n",
              "          quickchartButtonEl.classList.add('colab-df-spinner');\n",
              "          try {\n",
              "            const charts = await google.colab.kernel.invokeFunction(\n",
              "                'suggestCharts', [key], {});\n",
              "          } catch (error) {\n",
              "            console.error('Error during call to suggestCharts:', error);\n",
              "          }\n",
              "          quickchartButtonEl.classList.remove('colab-df-spinner');\n",
              "          quickchartButtonEl.classList.add('colab-df-quickchart-complete');\n",
              "        }\n",
              "        (() => {\n",
              "          let quickchartButtonEl =\n",
              "            document.querySelector('#df-696cc888-f0bc-4e5f-89cf-49634e41692a button');\n",
              "          quickchartButtonEl.style.display =\n",
              "            google.colab.kernel.accessAllowed ? 'block' : 'none';\n",
              "        })();\n",
              "      </script>\n",
              "    </div>\n",
              "\n",
              "    </div>\n",
              "  </div>\n"
            ],
            "application/vnd.google.colaboratory.intrinsic+json": {
              "type": "dataframe",
              "variable_name": "df"
            }
          },
          "metadata": {},
          "execution_count": 60
        }
      ]
    },
    {
      "cell_type": "code",
      "source": [
        "df.isna().sum()\n",
        "df.dropna(inplace=True)"
      ],
      "metadata": {
        "id": "jKvNb7jJC_DN"
      },
      "execution_count": null,
      "outputs": []
    },
    {
      "cell_type": "code",
      "source": [
        "df.duplicated().sum()"
      ],
      "metadata": {
        "colab": {
          "base_uri": "https://localhost:8080/"
        },
        "id": "FOVuhMlLDLx6",
        "outputId": "f7bf6846-69bb-40a3-af2d-e16dbd18e325"
      },
      "execution_count": 61,
      "outputs": [
        {
          "output_type": "execute_result",
          "data": {
            "text/plain": [
              "np.int64(0)"
            ]
          },
          "metadata": {},
          "execution_count": 61
        }
      ]
    },
    {
      "cell_type": "code",
      "source": [
        "# Choosing numeric features for clustering from the above dataset\n",
        "features = [\n",
        "    'danceability', 'energy', 'loudness', 'speechiness', 'acousticness',\n",
        "    'instrumentalness', 'liveness', 'valence', 'tempo', 'duration_ms'\n",
        "]\n",
        "X = df[features]"
      ],
      "metadata": {
        "id": "bYDNAYG0CILX"
      },
      "execution_count": null,
      "outputs": []
    },
    {
      "cell_type": "code",
      "source": [
        "#scaling features as clusters may not be well formed if the features are on different scale\n",
        "\n",
        "scaler = StandardScaler()\n",
        "X_scaled = scaler.fit_transform(X)"
      ],
      "metadata": {
        "id": "LBfFlcByDPn8"
      },
      "execution_count": null,
      "outputs": []
    },
    {
      "cell_type": "code",
      "source": [
        "#Using Principal component analysis to create 3 principal components as high dimensional data\n",
        "# i cannot pass variance to be captured in this pca component arg as it can create n number of components and we need 2 for for visualisation\n",
        "#Dimensionality curse\n",
        "\n",
        "pca = PCA(n_components=3, random_state=42)\n",
        "X_pca3 = pca.fit_transform(X_scaled)\n"
      ],
      "metadata": {
        "id": "wVbIh6AzDo4j"
      },
      "execution_count": null,
      "outputs": []
    },
    {
      "cell_type": "code",
      "source": [
        "#Lets see how much variance my three components captured  56 percent not bad\n",
        "pca.explained_variance_ratio_.sum()"
      ],
      "metadata": {
        "id": "iL0LSFSTFCs9"
      },
      "execution_count": null,
      "outputs": []
    },
    {
      "cell_type": "code",
      "source": [
        " #Running  K-means with k=4 clusters\n",
        " #Please note centroid can be a data point or just the geometric  centre of the cluster\n",
        "#Default is L2 euclidean distance L2 norm\n",
        "\n",
        "\n",
        "\n",
        "\n",
        "kmeans = KMeans(n_clusters=4, random_state=42, n_init=20) # 4 clusters ,n_init set to 20 how many times\n",
        "                                                                        #to restart k means with different centroid seeds\n",
        "\n",
        "                                                                     # As its sensitive to initialization\n",
        "labels = kmeans.fit_predict(X_pca3)   # clustering done in full space (better than PCA)\n",
        "\n",
        "\n"
      ],
      "metadata": {
        "id": "o-FFlTL3EXJs"
      },
      "execution_count": null,
      "outputs": []
    },
    {
      "cell_type": "code",
      "source": [
        "X_pca3[:,0]"
      ],
      "metadata": {
        "id": "KHCrPjUlIRZa"
      },
      "execution_count": null,
      "outputs": []
    },
    {
      "cell_type": "code",
      "source": [
        "# Attaching  PCA results and cluster labels for plotting\n",
        "\n",
        "df['PC1'], df['PC2'], df['PC3'] = X_pca3[:,0], X_pca3[:,1], X_pca3[:,2]\n",
        "df['cluster'] = labels"
      ],
      "metadata": {
        "id": "VNs1dq0JHBA9"
      },
      "execution_count": 65,
      "outputs": []
    },
    {
      "cell_type": "code",
      "source": [
        "#  3d matplotlib pyplot\n",
        "\n",
        "\n",
        "fig = plt.figure(figsize=(8,6))\n",
        "ax = fig.add_subplot(111, projection='3d')\n",
        "scatter = ax.scatter(df['PC1'], df['PC2'], df['PC3'],\n",
        "                     c=df['cluster'], cmap='Set2', s=10)\n",
        "ax.set_title(\"3D PCA (3 Components) + K-means Clusters (k=4)\")\n",
        "ax.set_xlabel(\"PC1\")\n",
        "ax.set_ylabel(\"PC2\")\n",
        "ax.set_zlabel(\"PC3\")\n",
        "plt.legend(*scatter.legend_elements(), title=\"Cluster\")\n",
        "plt.show()\n"
      ],
      "metadata": {
        "colab": {
          "base_uri": "https://localhost:8080/",
          "height": 528
        },
        "id": "-moBmnH-Jf_s",
        "outputId": "7c7f3e26-7e36-42c7-d438-480e04a5e14c"
      },
      "execution_count": 66,
      "outputs": [
        {
          "output_type": "display_data",
          "data": {
            "text/plain": [
              "<Figure size 800x600 with 1 Axes>"
            ],
            "image/png": "[encoded data removed]"
          },
          "metadata": {}
        }
      ]
    },
    {
      "cell_type": "markdown",
      "source": [
        "For fun lets create some psuedo labels\n",
        "\n",
        "Dance Floor 🎉\n",
        "Chill Zone ☁️\n",
        "Break-Up Corner 💔\n",
        "Rap Stage 🔥\"\n",
        "\n"
      ],
      "metadata": {
        "id": "RmQ-kA1wHPbJ"
      }
    },
    {
      "cell_type": "code",
      "source": [
        "#creating a dictionary\n",
        "\n",
        "cluster_names = {\n",
        "    0: \"Dance Floor 🎉\",\n",
        "    1: \"Chill Zone ☁️\",\n",
        "    2: \"Break-Up Corner 💔\",\n",
        "    3: \"Rap Stage 🔥\"\n",
        "}"
      ],
      "metadata": {
        "id": "N3H-LWOAHgiS"
      },
      "execution_count": null,
      "outputs": []
    },
    {
      "cell_type": "code",
      "source": [
        "df['cluster_name'] = df['cluster'].map(cluster_names) # mapping them to labels"
      ],
      "metadata": {
        "id": "X17TkmsRI2CZ"
      },
      "execution_count": 62,
      "outputs": []
    },
    {
      "cell_type": "code",
      "source": [
        "!pip install -q plotly\n",
        "\n",
        "#importing plotly\n",
        "\n",
        "import plotly.express as px\n",
        "\n",
        "# 3D scatter with cluster names as legend from above dict\n",
        "fig = px.scatter_3d(\n",
        "    df,\n",
        "    x='PC1', y='PC2', z='PC3',\n",
        "    color='cluster_name',  # directly use mapped names\n",
        "    hover_data=['track_name', 'artists'],  # optional: see song info on hover\n",
        "    title=\"3D PCA (3 Components) + K-means Clusters (k=4)\"\n",
        ")\n",
        "\n",
        "fig.show()\n",
        "\n",
        "#zoom it its interactive"
      ],
      "metadata": {
        "collapsed": true,
        "id": "ZwymOkkgLCUW"
      },
      "execution_count": null,
      "outputs": []
    },
    {
      "cell_type": "code",
      "source": [
        "# checking my  loadings that is contribution of features to PCA\n",
        "\n",
        "loadings_array = pca.components_.T   # transpose so features = rows, PCs = columns\n",
        "\n",
        "\n",
        "columns = [\"PC1\", \"PC2\", \"PC3\"]   # since 3 pca 3 columns\n",
        "\n",
        "loadings = pd.DataFrame(loadings_array, index=features, columns=columns)\n",
        "\n",
        "\n",
        "print(loadings)"
      ],
      "metadata": {
        "colab": {
          "base_uri": "https://localhost:8080/"
        },
        "id": "OwhlLj4wMAnd",
        "outputId": "4dd83ce6-aa6b-4572-d4a2-849e1f3c13a0"
      },
      "execution_count": 64,
      "outputs": [
        {
          "output_type": "stream",
          "name": "stdout",
          "text": [
            "                       PC1       PC2       PC3\n",
            "danceability      0.246935  0.483671 -0.216965\n",
            "energy            0.508439 -0.263318  0.037336\n",
            "loudness          0.516757 -0.077839 -0.039150\n",
            "speechiness       0.101135  0.091325  0.609101\n",
            "acousticness     -0.438282  0.315504  0.176570\n",
            "instrumentalness -0.283430 -0.321240 -0.153502\n",
            "liveness          0.085003 -0.143957  0.695819\n",
            "valence           0.296322  0.487668 -0.072575\n",
            "tempo             0.188653 -0.240314 -0.068893\n",
            "duration_ms      -0.014182 -0.404097 -0.173430\n"
          ]
        }
      ]
    },
    {
      "cell_type": "code",
      "source": [
        "# i can check which feature dominate which cluster and then see the Plotly space and recomend music\n",
        "\n",
        "custer_profile = df.groupby(\"cluster_name\")[features].mean()\n",
        "print(cluster_profile)\n"
      ],
      "metadata": {
        "colab": {
          "base_uri": "https://localhost:8080/"
        },
        "id": "VbQGDmasM6Nx",
        "outputId": "362b60db-9f86-4ab2-f3ea-b4f0630f2906"
      },
      "execution_count": 63,
      "outputs": [
        {
          "output_type": "stream",
          "name": "stdout",
          "text": [
            "                   danceability    energy   loudness  speechiness  \\\n",
            "cluster_name                                                        \n",
            "Break-Up Corner 💔      0.485846  0.790833  -6.306701     0.068977   \n",
            "Chill Zone ☁️          0.454003  0.269652 -15.020219     0.050408   \n",
            "Dance Floor 🎉          0.679680  0.690164  -6.672273     0.079736   \n",
            "Rap Stage 🔥            0.537096  0.756573  -7.087870     0.244307   \n",
            "\n",
            "                   acousticness  instrumentalness  liveness   valence  \\\n",
            "cluster_name                                                            \n",
            "Break-Up Corner 💔      0.080758          0.248691  0.199017  0.327401   \n",
            "Chill Zone ☁️          0.775826          0.338247  0.163722  0.288262   \n",
            "Dance Floor 🎉          0.256172          0.031981  0.164237  0.654846   \n",
            "Rap Stage 🔥            0.331052          0.038793  0.631854  0.497124   \n",
            "\n",
            "                        tempo    duration_ms  \n",
            "cluster_name                                  \n",
            "Break-Up Corner 💔  135.262998  274147.052794  \n",
            "Chill Zone ☁️      108.390572  214855.489176  \n",
            "Dance Floor 🎉      119.600381  205741.972189  \n",
            "Rap Stage 🔥        122.477707  213962.366232  \n"
          ]
        }
      ]
    }
  ]
}