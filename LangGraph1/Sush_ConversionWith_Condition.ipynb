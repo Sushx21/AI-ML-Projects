{
 "cells": [
  {
   "cell_type": "code",
   "id": "initial_id",
   "metadata": {
    "collapsed": true,
    "ExecuteTime": {
     "end_time": "2025-09-27T06:57:31.422825Z",
     "start_time": "2025-09-27T06:57:31.416872Z"
    }
   },
   "source": [
    "from typing import TypedDict, Literal  #fixed  set of currency\n",
    "\n",
    "class PortfolioState(TypedDict):      #type hint\n",
    "    amount_usd: float\n",
    "    total_usd: float\n",
    "    target_currency: Literal[\"INR\", \"EUR\"]\n",
    "    total: float"
   ],
   "outputs": [],
   "execution_count": 1
  },
  {
   "metadata": {
    "ExecuteTime": {
     "end_time": "2025-09-27T08:31:43.060932Z",
     "start_time": "2025-09-27T08:31:43.054184Z"
    }
   },
   "cell_type": "code",
   "source": [
    "def calc_total(state: PortfolioState) -> PortfolioState:\n",
    "    state['total_usd'] = state['amount_usd'] * 1.08\n",
    "    return state\n",
    "\n",
    "def convert_to_inr(state: PortfolioState) -> PortfolioState:\n",
    "    state['total'] = state['total_usd'] * 85\n",
    "    return state\n",
    "\n",
    "def convert_to_eur(state: PortfolioState) -> PortfolioState:\n",
    "    state['total'] = state['total_usd'] * 0.9  #hardcoded to 0.9\n",
    "    return state\n",
    "\n",
    "def choose_conversion(state: PortfolioState) -> str:\n",
    "    return state[\"target_currency\"]"
   ],
   "id": "89f227eaa8e989e1",
   "outputs": [],
   "execution_count": 3
  },
  {
   "metadata": {
    "ExecuteTime": {
     "end_time": "2025-09-27T08:43:47.402055Z",
     "start_time": "2025-09-27T08:43:47.393322Z"
    }
   },
   "cell_type": "code",
   "source": [
    "#creating my graph\n",
    "\n",
    "from langgraph.graph import StateGraph, START, END\n",
    "\n",
    "builder = StateGraph(PortfolioState)\n",
    "\n",
    "builder.add_node(\"calc_total_node\", calc_total)\n",
    "builder.add_node(\"convert_to_inr_node\", convert_to_inr)\n",
    "builder.add_node(\"convert_to_eur_node\", convert_to_eur)\n",
    "\n",
    "builder.add_edge(START, \"calc_total_node\")\n",
    "\n",
    "                                           # conditional age\n",
    "builder.add_conditional_edges(\n",
    "    \"calc_total_node\",\n",
    "    choose_conversion,\n",
    "    {\n",
    "        \"INR\": \"convert_to_inr_node\",     #inr goes to inr node\n",
    "        \"EUR\": \"convert_to_eur_node\",      #  eur goes to eur node\n",
    "    }\n",
    ")\n",
    "builder.add_edge([\"convert_to_inr_node\", \"convert_to_eur_node\"], END)\n",
    "\n",
    "graph1 = builder.compile()"
   ],
   "id": "9b9eec0b9de2b4dc",
   "outputs": [],
   "execution_count": 24
  },
  {
   "metadata": {
    "ExecuteTime": {
     "end_time": "2025-09-27T08:44:32.439219Z",
     "start_time": "2025-09-27T08:44:32.428849Z"
    }
   },
   "cell_type": "code",
   "source": [
    "\n",
    "graph.invoke({\"amount_usd\": 1500, \"target_currency\": \"EUR\"})"
   ],
   "id": "3aebca72b3fbb6e",
   "outputs": [
    {
     "data": {
      "text/plain": [
       "{'amount_usd': 1500,\n",
       " 'total_usd': 1620.0,\n",
       " 'target_currency': 'EUR',\n",
       " 'total': 1458.0}"
      ]
     },
     "execution_count": 26,
     "metadata": {},
     "output_type": "execute_result"
    }
   ],
   "execution_count": 26
  }
 ],
 "metadata": {
  "kernelspec": {
   "display_name": "Python 3",
   "language": "python",
   "name": "python3"
  },
  "language_info": {
   "codemirror_mode": {
    "name": "ipython",
    "version": 2
   },
   "file_extension": ".py",
   "mimetype": "text/x-python",
   "name": "python",
   "nbconvert_exporter": "python",
   "pygments_lexer": "ipython2",
   "version": "2.7.6"
  }
 },
 "nbformat": 4,
 "nbformat_minor": 5
}
