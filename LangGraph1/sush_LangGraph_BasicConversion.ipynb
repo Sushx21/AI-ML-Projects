{
 "cells": [
  {
   "metadata": {},
   "cell_type": "code",
   "outputs": [],
   "execution_count": null,
   "source": [
    "# A simple conversion tool through Langgraph practise\n",
    "\n",
    "# I earn in usd earn 8 percent intrest and see whats that in inr given a fixed inr value"
   ],
   "id": "b815572af5c18de9"
  },
  {
   "cell_type": "code",
   "id": "initial_id",
   "metadata": {
    "collapsed": true,
    "ExecuteTime": {
     "end_time": "2025-09-27T06:04:16.252918Z",
     "start_time": "2025-09-27T06:04:16.246534Z"
    }
   },
   "source": [
    "from typing import TypedDict   #Type hint\n",
    "\n",
    "class PortfolioState(TypedDict):\n",
    "    amount_usd: float\n",
    "    total_usd: float\n",
    "    total_inr: float"
   ],
   "outputs": [],
   "execution_count": 1
  },
  {
   "metadata": {
    "ExecuteTime": {
     "end_time": "2025-09-27T06:49:43.983229Z",
     "start_time": "2025-09-27T06:49:43.978070Z"
    }
   },
   "cell_type": "code",
   "source": [
    "def calc_total(state: PortfolioState) -> PortfolioState:  #state as input and output\n",
    "    state['total_usd'] = state['amount_usd'] * 1.08    # 8 percent fixed return rate\n",
    "    return state\n",
    "\n",
    "def convert_to_inr(state: PortfolioState) -> PortfolioState:\n",
    "    state['total_inr'] = state['total_usd'] * 87    #usd to inr\n",
    "    return state"
   ],
   "id": "714b4af7403851d7",
   "outputs": [],
   "execution_count": 2
  },
  {
   "metadata": {
    "ExecuteTime": {
     "end_time": "2025-09-27T06:50:21.158289Z",
     "start_time": "2025-09-27T06:50:16.825686Z"
    }
   },
   "cell_type": "code",
   "source": [
    "#building graph\n",
    "from langgraph.graph import StateGraph, START, END\n",
    "\n",
    "builder = StateGraph(PortfolioState)\n",
    "\n",
    "builder.add_node(\"calc_total_node\", calc_total)   #My nodes\n",
    "builder.add_node(\"convert_to_inr_node\", convert_to_inr)\n",
    "\n",
    "#**************************\n",
    "builder.add_edge(START, \"calc_total_node\")  # my edges like tesnorflow seq api\n",
    "builder.add_edge(\"calc_total_node\", \"convert_to_inr_node\")\n",
    "builder.add_edge(\"convert_to_inr_node\", END)   #graph ends\n",
    "\n",
    "graph = builder.compile()"
   ],
   "id": "3615fcf004c74b99",
   "outputs": [],
   "execution_count": 4
  },
  {
   "metadata": {
    "ExecuteTime": {
     "end_time": "2025-09-27T08:43:21.858098Z",
     "start_time": "2025-09-27T08:43:21.075573Z"
    }
   },
   "cell_type": "code",
   "source": [
    "from IPython.display import Image, display\n",
    "\n",
    "display(Image(graph.get_graph().draw_mermaid_png()))"
   ],
   "id": "7f0cc4e95428036d",
   "outputs": [
    {
     "data": {
      "image/png": "[encoded data removed]",
      "text/plain": [
       "<IPython.core.display.Image object>"
      ]
     },
     "metadata": {},
     "output_type": "display_data"
    }
   ],
   "execution_count": 11
  },
  {
   "metadata": {
    "ExecuteTime": {
     "end_time": "2025-09-27T06:52:12.047979Z",
     "start_time": "2025-09-27T06:52:12.038983Z"
    }
   },
   "cell_type": "code",
   "source": "graph.invoke({\"amount_usd\":1000})",
   "id": "79430f88d8f8c4c6",
   "outputs": [
    {
     "data": {
      "text/plain": [
       "{'amount_usd': 1000, 'total_usd': 1080.0, 'total_inr': 93960.0}"
      ]
     },
     "execution_count": 9,
     "metadata": {},
     "output_type": "execute_result"
    }
   ],
   "execution_count": 9
  },
  {
   "metadata": {},
   "cell_type": "code",
   "outputs": [],
   "execution_count": null,
   "source": "",
   "id": "75dc032389d23da"
  }
 ],
 "metadata": {
  "kernelspec": {
   "display_name": "Python 3",
   "language": "python",
   "name": "python3"
  },
  "language_info": {
   "codemirror_mode": {
    "name": "ipython",
    "version": 2
   },
   "file_extension": ".py",
   "mimetype": "text/x-python",
   "name": "python",
   "nbconvert_exporter": "python",
   "pygments_lexer": "ipython2",
   "version": "2.7.6"
  }
 },
 "nbformat": 4,
 "nbformat_minor": 5
}
