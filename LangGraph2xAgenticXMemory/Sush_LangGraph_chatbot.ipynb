{
 "cells": [
  {
   "cell_type": "code",
   "id": "initial_id",
   "metadata": {
    "collapsed": true,
    "ExecuteTime": {
     "end_time": "2025-09-28T08:22:40.670080Z",
     "start_time": "2025-09-28T08:22:40.662394Z"
    }
   },
   "source": [
    "from dotenv import load_dotenv\n",
    "load_dotenv()"
   ],
   "outputs": [
    {
     "data": {
      "text/plain": [
       "True"
      ]
     },
     "execution_count": 12,
     "metadata": {},
     "output_type": "execute_result"
    }
   ],
   "execution_count": 12
  },
  {
   "metadata": {
    "ExecuteTime": {
     "end_time": "2025-09-28T08:24:50.673954Z",
     "start_time": "2025-09-28T08:24:50.668739Z"
    }
   },
   "cell_type": "code",
   "source": "import os",
   "id": "2a761dacbbbe5375",
   "outputs": [],
   "execution_count": 19
  },
  {
   "metadata": {
    "ExecuteTime": {
     "end_time": "2025-09-28T08:24:13.093310Z",
     "start_time": "2025-09-28T08:24:12.997492Z"
    }
   },
   "cell_type": "code",
   "source": [
    "\n",
    "from langchain_groq import ChatGroq\n"
   ],
   "id": "e4810d42074ea7f5",
   "outputs": [],
   "execution_count": 17
  },
  {
   "metadata": {
    "ExecuteTime": {
     "end_time": "2025-09-28T08:26:45.037963Z",
     "start_time": "2025-09-28T08:26:43.645398Z"
    }
   },
   "cell_type": "code",
   "source": [
    "llm = ChatGroq(\n",
    "    model=\"openai/gpt-oss-120b\",\n",
    "    api_key=os.getenv(\"GROQ_API_KEY\")   #using open ai open source model\n",
    ")"
   ],
   "id": "9bf3e35d5e4d7da9",
   "outputs": [],
   "execution_count": 24
  },
  {
   "metadata": {},
   "cell_type": "code",
   "source": "llm.invoke(\"when india got independence?\") # testing for api call",
   "id": "f8f21493b812aef0",
   "outputs": [],
   "execution_count": null
  },
  {
   "metadata": {
    "ExecuteTime": {
     "end_time": "2025-09-28T08:44:38.608111Z",
     "start_time": "2025-09-28T08:44:38.603868Z"
    }
   },
   "cell_type": "code",
   "source": [
    "from typing import Annotated\n",
    "\n",
    "from typing_extensions import TypedDict\n",
    "from langgraph.graph.message import add_messages\n",
    "from langgraph.graph import StateGraph, START, END"
   ],
   "id": "272d5e63ded8efe4",
   "outputs": [],
   "execution_count": 37
  },
  {
   "metadata": {
    "ExecuteTime": {
     "end_time": "2025-09-28T08:44:47.852952Z",
     "start_time": "2025-09-28T08:44:47.844051Z"
    }
   },
   "cell_type": "code",
   "source": [
    "class State(TypedDict):\n",
    "    messages: Annotated[list, add_messages] # it will show but human and ai bot message like chatgpt\n",
    "                                            # as annotated with add_messages A REDUCER FUNCTION in LG\n",
    "                                             # dont overide but append\n",
    "\n",
    "def chatbot(state: State) -> State:\n",
    "    return {\"messages\": [llm.invoke(state[\"messages\"])]}\n",
    "\n",
    "builder = StateGraph(State)\n",
    "builder.add_node(\"chatbot_node\", chatbot)\n",
    "\n",
    "builder.add_edge(START, \"chatbot_node\")\n",
    "builder.add_edge(\"chatbot_node\", END)\n",
    "\n",
    "graph = builder.compile()"
   ],
   "id": "d727ab6ca10258f0",
   "outputs": [],
   "execution_count": 38
  },
  {
   "metadata": {
    "ExecuteTime": {
     "end_time": "2025-09-28T08:47:25.271673Z",
     "start_time": "2025-09-28T08:47:22.997735Z"
    }
   },
   "cell_type": "code",
   "source": [
    "message = {\"role\": \"user\", \"content\": \"When did USSR collapse\"}# system ,user ,assistant\n",
    "response = graph.invoke({\"messages\":[message]})"
   ],
   "id": "33b914b1893fcb77",
   "outputs": [],
   "execution_count": 40
  },
  {
   "metadata": {
    "ExecuteTime": {
     "end_time": "2025-09-28T08:48:14.417920Z",
     "start_time": "2025-09-28T08:48:14.413015Z"
    }
   },
   "cell_type": "code",
   "source": "print(response[\"messages\"])",
   "id": "9784de2ad482a3e8",
   "outputs": [
    {
     "name": "stdout",
     "output_type": "stream",
     "text": [
      "[HumanMessage(content='When did USSR collapse', additional_kwargs={}, response_metadata={}, id='c379f7f8-21d4-45cd-a342-5015dc73ef2c'), AIMessage(content='The Union of Soviet Socialist Republics (USSR) was officially dissolved on **December\\u202f26\\u202f1991**.  \\n\\n**Key milestones leading up to the collapse:**\\n\\n| Date | Event |\\n|------|-------|\\n| **August\\u202f19‑21\\u202f1991** | A hard‑line coup attempt by Communist Party members fails, weakening central authority. |\\n| **August\\u202f24\\u202f1991** | The Russian Federation, under President Boris\\u202fYeltsin, declares its sovereignty and begins the process of leaving the USSR. |\\n| **September\\u202f8\\u202f1991** | The leaders of Russia, Ukraine, and Belarus sign the **Belavezha Accords**, announcing the creation of the Commonwealth of Independent States (CIS) and declaring that the USSR “has effectively ceased to exist.” |\\n| **December\\u202f1\\u202f1991** – **December\\u202f8\\u202f1991** | Additional former Soviet republics (including Kazakhstan, Kyrgyzstan, Uzbekistan, Turkmenistan, and Tajikistan) join the CIS, solidifying the breakup. |\\n| **December\\u202f25\\u202f1991** | Mikhail\\u202fGorbachev resigns as President of the USSR and hands over the Soviet nuclear launch codes to Russian President Boris\\u202fYeltsin. |\\n| **December\\u202f26\\u202f1991** | The Soviet of the Republics (the upper chamber of the Soviet parliament) formally votes to dissolve the USSR. The United Nations officially removes the USSR from its member list, and the Russian Federation assumes the USSR’s seat on the Security Council. |\\n\\nThus, while the process unfolded over several months in 1991, the **official legal end of the USSR is marked by the December\\u202f26,\\u202f1991 dissolution vote**.', additional_kwargs={'reasoning_content': 'The user asks: \"When did USSR collapse\". Provide answer. Provide date: December 26, 1991 (official dissolution). Mention events like August 1991 coup, etc. Provide context.'}, response_metadata={'token_usage': {'completion_tokens': 405, 'prompt_tokens': 75, 'total_tokens': 480, 'completion_time': 0.827541508, 'prompt_time': 0.002868566, 'queue_time': 0.045138084, 'total_time': 0.830410074}, 'model_name': 'openai/gpt-oss-120b', 'system_fingerprint': 'fp_213abb2467', 'service_tier': 'on_demand', 'finish_reason': 'stop', 'logprobs': None}, id='run--5faebf7a-3b5d-402a-a7b8-c6c02a1ad839-0', usage_metadata={'input_tokens': 75, 'output_tokens': 405, 'total_tokens': 480})]\n"
     ]
    }
   ],
   "execution_count": 42
  },
  {
   "metadata": {},
   "cell_type": "code",
   "outputs": [],
   "execution_count": null,
   "source": "",
   "id": "945dde0c0177ac93"
  }
 ],
 "metadata": {
  "kernelspec": {
   "display_name": "Python 3",
   "language": "python",
   "name": "python3"
  },
  "language_info": {
   "codemirror_mode": {
    "name": "ipython",
    "version": 2
   },
   "file_extension": ".py",
   "mimetype": "text/x-python",
   "name": "python",
   "nbconvert_exporter": "python",
   "pygments_lexer": "ipython2",
   "version": "2.7.6"
  }
 },
 "nbformat": 4,
 "nbformat_minor": 5
}
