{
 "cells": [
  {
   "cell_type": "code",
   "id": "initial_id",
   "metadata": {
    "collapsed": true,
    "ExecuteTime": {
     "end_time": "2025-09-28T09:39:10.702909Z",
     "start_time": "2025-09-28T09:39:10.697792Z"
    }
   },
   "source": [
    "from langchain.chat_models import init_chat_model\n",
    "from typing import Annotated\n",
    "from typing_extensions import TypedDict\n",
    "from langgraph.graph import StateGraph, START, END\n",
    "from langgraph.graph.message import add_messages\n",
    "from langchain_core.tools import tool\n",
    "from langgraph.prebuilt import ToolNode, tools_condition"
   ],
   "outputs": [],
   "execution_count": 24
  },
  {
   "metadata": {
    "ExecuteTime": {
     "end_time": "2025-09-28T09:39:13.645155Z",
     "start_time": "2025-09-28T09:39:13.637054Z"
    }
   },
   "cell_type": "code",
   "source": [
    "from dotenv import load_dotenv\n",
    "load_dotenv()"
   ],
   "id": "6687bcbefe261d",
   "outputs": [
    {
     "data": {
      "text/plain": [
       "True"
      ]
     },
     "execution_count": 25,
     "metadata": {},
     "output_type": "execute_result"
    }
   ],
   "execution_count": 25
  },
  {
   "metadata": {
    "ExecuteTime": {
     "end_time": "2025-09-28T09:39:15.254891Z",
     "start_time": "2025-09-28T09:39:15.250592Z"
    }
   },
   "cell_type": "code",
   "source": [
    "class State(TypedDict):     #type hint\n",
    "\n",
    " messages: Annotated[list, add_messages]"
   ],
   "id": "862294f1f837a089",
   "outputs": [],
   "execution_count": 26
  },
  {
   "metadata": {
    "ExecuteTime": {
     "end_time": "2025-09-28T09:39:16.234352Z",
     "start_time": "2025-09-28T09:39:16.226456Z"
    }
   },
   "cell_type": "code",
   "source": [
    "@tool                                          #docstring useful for llm ,In real life we can use\n",
    "                                              #Some finance Api\n",
    "\n",
    "def get_stock_price(symbol: str) -> float:\n",
    "    '''Return the current price of a stock given the stock symbol\n",
    "    :param symbol: stock symbol\n",
    "    :return: current price of the stock\n",
    "    '''\n",
    "    return {\n",
    "        \"MSFT\": 200.3,\n",
    "        \"AAPL\": 100.4,\n",
    "        \"AMZN\": 150.0,\n",
    "        \"RIL\": 87.6\n",
    "    }.get(symbol, 0.0)               #0 is like fallback if the stock symbol is not there\n",
    "\n",
    "tools = [get_stock_price]"
   ],
   "id": "ec0da7a4cb80bf68",
   "outputs": [],
   "execution_count": 27
  },
  {
   "metadata": {
    "ExecuteTime": {
     "end_time": "2025-09-28T09:39:19.246482Z",
     "start_time": "2025-09-28T09:39:19.241716Z"
    }
   },
   "cell_type": "code",
   "source": "import os",
   "id": "42a12c76d080d76f",
   "outputs": [],
   "execution_count": 28
  },
  {
   "metadata": {
    "ExecuteTime": {
     "end_time": "2025-09-28T09:39:21.411961Z",
     "start_time": "2025-09-28T09:39:20.096696Z"
    }
   },
   "cell_type": "code",
   "source": [
    "from langchain_groq import ChatGroq\n",
    "llm = ChatGroq(\n",
    "    model=\"openai/gpt-oss-120b\",\n",
    "    api_key=os.getenv(\"GROQ_API_KEY\")\n",
    ")"
   ],
   "id": "b8d1aa7dd518922a",
   "outputs": [],
   "execution_count": 29
  },
  {
   "metadata": {
    "ExecuteTime": {
     "end_time": "2025-09-28T09:42:36.773343Z",
     "start_time": "2025-09-28T09:42:36.765493Z"
    }
   },
   "cell_type": "code",
   "source": "llm_with_tools = llm.bind_tools(tools) # binding my tool with llm",
   "id": "a72d32813ecb85cc",
   "outputs": [],
   "execution_count": 37
  },
  {
   "metadata": {
    "ExecuteTime": {
     "end_time": "2025-09-28T09:42:44.792642Z",
     "start_time": "2025-09-28T09:42:43.964645Z"
    }
   },
   "cell_type": "code",
   "source": [
    "def chatbot(state: State):\n",
    "    return {\"messages\": [llm_with_tools.invoke(state[\"messages\"])]}\n",
    "\n",
    "builder = StateGraph(State)                #graph with state\n",
    "\n",
    "builder.add_node(chatbot)\n",
    "builder.add_node(\"tools\", ToolNode(tools))\n",
    "\n",
    "builder.add_edge(START, \"chatbot\")\n",
    "builder.add_conditional_edges(\"chatbot\", tools_condition)# it will either go to tools or end\n",
    "                                            # so no  need of end edge\n",
    "\n",
    "\n",
    "graph = builder.compile()\n",
    "\n",
    "from IPython.display import Image, display\n",
    "\n",
    "display(Image(graph.get_graph().draw_mermaid_png()))"
   ],
   "id": "51363c7b0396e9c6",
   "outputs": [
    {
     "data": {
      "image/png": "[encoded data removed]",
      "text/plain": [
       "<IPython.core.display.Image object>"
      ]
     },
     "metadata": {},
     "output_type": "display_data"
    }
   ],
   "execution_count": 38
  },
  {
   "metadata": {
    "ExecuteTime": {
     "end_time": "2025-09-28T09:46:34.836317Z",
     "start_time": "2025-09-28T09:46:34.533509Z"
    }
   },
   "cell_type": "code",
   "source": [
    "state = graph.invoke({\"messages\": [{\"role\": \"user\", \"content\": \"What is the price of AAPL stock right now?\"}]})\n",
    "print(state[\"messages\"][-1].content)  # its going to tool as its a relevant message that needs tool acess"
   ],
   "id": "fdde7cb408d6aed2",
   "outputs": [
    {
     "name": "stdout",
     "output_type": "stream",
     "text": [
      "100.4\n"
     ]
    }
   ],
   "execution_count": 44
  },
  {
   "metadata": {
    "ExecuteTime": {
     "end_time": "2025-09-28T09:46:29.192401Z",
     "start_time": "2025-09-28T09:46:28.117932Z"
    }
   },
   "cell_type": "code",
   "source": [
    "\n",
    "state = graph.invoke({\"messages\": [{\"role\": \"user\", \"content\": \"Who created NATO\"}]})\n",
    "print(state[\"messages\"][-1].content)  # No need of tool access when other question is asked\n",
    "                                      # that does not require tool acess\n",
    "\n",
    "\n"
   ],
   "id": "99a51edead7a8c1a",
   "outputs": [
    {
     "name": "stdout",
     "output_type": "stream",
     "text": [
      "The North Atlantic Treaty Organization (NATO) was created through a collective effort by a group of Western nations after World II, formalized by the signing of the **North Atlantic Treaty** on **4 April 1949**.\n",
      "\n",
      "**Founding members (the original 12 signatories of the treaty):**\n",
      "\n",
      "| Country | Role in NATO’s Creation |\n",
      "|---------|--------------------------|\n",
      "| United States | Principal sponsor and driving force behind the alliance’s concept |\n",
      "| United Kingdom | Key European partner, helped shape the treaty’s political framework |\n",
      "| France | Major European contributor to the security architecture |\n",
      "| Canada | North‑American partner that helped balance U.S. influence |\n",
      "| Belgium | One of the continental European founders |\n",
      "| Denmark | Early supporter of collective defense |\n",
      "| Iceland | Strategic location in the North Atlantic |\n",
      "| Italy | Joined the alliance to secure its post‑war security |\n",
      "| Luxembourg | Small but committed founding member |\n",
      "| Netherlands | Integral part of the Western European bloc |\n",
      "| Norway | Provided a critical northern flank |\n",
      "| Portugal | Contributed strategic Atlantic ports |\n",
      "\n",
      "These twelve nations negotiated and signed the treaty in Washington, D.C., establishing NATO as a **collective defense organization**—the principle that an attack against one member is considered an attack against all (Article 5 of the treaty). The alliance was created to provide a unified security front against the perceived threat of Soviet expansion in Europe during the early Cold War period.\n"
     ]
    }
   ],
   "execution_count": 43
  },
  {
   "metadata": {},
   "cell_type": "code",
   "outputs": [],
   "execution_count": null,
   "source": "#### Now let me  add context and make it agentic in susnata_Tool_call_agent",
   "id": "a93713ffbd53344a"
  },
  {
   "metadata": {},
   "cell_type": "code",
   "outputs": [],
   "execution_count": null,
   "source": "",
   "id": "62baf4dfacffd637"
  }
 ],
 "metadata": {
  "kernelspec": {
   "display_name": "Python 3",
   "language": "python",
   "name": "python3"
  },
  "language_info": {
   "codemirror_mode": {
    "name": "ipython",
    "version": 2
   },
   "file_extension": ".py",
   "mimetype": "text/x-python",
   "name": "python",
   "nbconvert_exporter": "python",
   "pygments_lexer": "ipython2",
   "version": "2.7.6"
  }
 },
 "nbformat": 4,
 "nbformat_minor": 5
}
