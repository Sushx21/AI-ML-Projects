{
 "cells": [
  {
   "cell_type": "code",
   "id": "initial_id",
   "metadata": {
    "collapsed": true,
    "ExecuteTime": {
     "end_time": "2025-09-28T10:22:18.278426Z",
     "start_time": "2025-09-28T10:22:17.111967Z"
    }
   },
   "source": [
    "\n",
    "from typing import Annotated\n",
    "from typing_extensions import TypedDict\n",
    "from langgraph.graph import StateGraph, START, END\n",
    "from langgraph.graph.message import add_messages\n",
    "from langchain_core.tools import tool\n",
    "from langgraph.prebuilt import ToolNode, tools_condition"
   ],
   "outputs": [],
   "execution_count": 2
  },
  {
   "metadata": {
    "ExecuteTime": {
     "end_time": "2025-09-28T10:22:18.936455Z",
     "start_time": "2025-09-28T10:22:18.913862Z"
    }
   },
   "cell_type": "code",
   "source": [
    "from dotenv import load_dotenv\n",
    "load_dotenv()"
   ],
   "id": "6687bcbefe261d",
   "outputs": [
    {
     "data": {
      "text/plain": [
       "True"
      ]
     },
     "execution_count": 3,
     "metadata": {},
     "output_type": "execute_result"
    }
   ],
   "execution_count": 3
  },
  {
   "metadata": {
    "ExecuteTime": {
     "end_time": "2025-09-28T10:22:20.086058Z",
     "start_time": "2025-09-28T10:22:20.080185Z"
    }
   },
   "cell_type": "code",
   "source": [
    "class State(TypedDict):     #type hint\n",
    "\n",
    " messages: Annotated[list, add_messages]"
   ],
   "id": "862294f1f837a089",
   "outputs": [],
   "execution_count": 4
  },
  {
   "metadata": {
    "ExecuteTime": {
     "end_time": "2025-09-28T10:22:21.360162Z",
     "start_time": "2025-09-28T10:22:21.349259Z"
    }
   },
   "cell_type": "code",
   "source": [
    "@tool                                          #docstring useful for llm ,In real life we can use\n",
    "                                              #Some finance Api\n",
    "\n",
    "def get_stock_price(symbol: str) -> float:\n",
    "    '''Return the current price of a stock given the stock symbol\n",
    "    :param symbol: stock symbol\n",
    "    :return: current price of the stock\n",
    "    '''\n",
    "    return {\n",
    "        \"MSFT\": 200.3,\n",
    "        \"AAPL\": 100.4,\n",
    "        \"AMZN\": 150.0,\n",
    "        \"RIL\": 87.6\n",
    "    }.get(symbol, 0.0)               #0 is like fallback if the stock symbol is not there\n",
    "\n",
    "tools = [get_stock_price]"
   ],
   "id": "ec0da7a4cb80bf68",
   "outputs": [],
   "execution_count": 5
  },
  {
   "metadata": {
    "ExecuteTime": {
     "end_time": "2025-09-28T10:22:23.266531Z",
     "start_time": "2025-09-28T10:22:23.261772Z"
    }
   },
   "cell_type": "code",
   "source": "import os",
   "id": "42a12c76d080d76f",
   "outputs": [],
   "execution_count": 6
  },
  {
   "metadata": {
    "ExecuteTime": {
     "end_time": "2025-09-28T10:22:25.625509Z",
     "start_time": "2025-09-28T10:22:23.942186Z"
    }
   },
   "cell_type": "code",
   "source": [
    "from langchain_groq import ChatGroq\n",
    "llm = ChatGroq(\n",
    "    model=\"openai/gpt-oss-120b\",\n",
    "    api_key=os.getenv(\"GROQ_API_KEY\")\n",
    ")"
   ],
   "id": "b8d1aa7dd518922a",
   "outputs": [],
   "execution_count": 7
  },
  {
   "metadata": {
    "ExecuteTime": {
     "end_time": "2025-09-28T10:22:25.642810Z",
     "start_time": "2025-09-28T10:22:25.633386Z"
    }
   },
   "cell_type": "code",
   "source": "llm_with_tools = llm.bind_tools(tools) # binding my tool with llm",
   "id": "a72d32813ecb85cc",
   "outputs": [],
   "execution_count": 8
  },
  {
   "metadata": {
    "ExecuteTime": {
     "end_time": "2025-09-28T10:28:39.887630Z",
     "start_time": "2025-09-28T10:28:38.980583Z"
    }
   },
   "cell_type": "code",
   "source": [
    "def chatbot(state: State):\n",
    "    return {\"messages\": [llm_with_tools.invoke(state[\"messages\"])]}\n",
    "\n",
    "builder = StateGraph(State)                #graph with state\n",
    "\n",
    "builder.add_node(chatbot)\n",
    "builder.add_node(\"tools\", ToolNode(tools))\n",
    "\n",
    "builder.add_edge(START, \"chatbot\")\n",
    "builder.add_conditional_edges(\"chatbot\", tools_condition)# it will either go to tools or end\n",
    "\n",
    "\n",
    "builder.add_edge(\"tools\", \"chatbot\")                                      # so no  need of end edge\n",
    "# Now another edge back from tools to chatbot is created\n",
    "\n",
    "graph = builder.compile(checkpointer=memory)\n",
    "\n",
    "from IPython.display import Image, display\n",
    "\n",
    "display(Image(graph.get_graph().draw_mermaid_png()))"
   ],
   "id": "51363c7b0396e9c6",
   "outputs": [
    {
     "data": {
      "image/png": "[encoded data removed]",
      "text/plain": [
       "<IPython.core.display.Image object>"
      ]
     },
     "metadata": {},
     "output_type": "display_data"
    }
   ],
   "execution_count": 18
  },
  {
   "metadata": {
    "ExecuteTime": {
     "end_time": "2025-09-28T10:22:30.172198Z",
     "start_time": "2025-09-28T10:22:29.549735Z"
    }
   },
   "cell_type": "code",
   "source": [
    "state = graph.invoke({\"messages\": [{\"role\": \"user\", \"content\": \"What is the price of AAPL stock right now?\"}]})\n",
    "print(state[\"messages\"][-1].content)  # its going to tool as its a relevant message that needs tool acess"
   ],
   "id": "fdde7cb408d6aed2",
   "outputs": [
    {
     "name": "stdout",
     "output_type": "stream",
     "text": [
      "The current price of Apple (AAPL) stock is **$100.40**.\n"
     ]
    }
   ],
   "execution_count": 10
  },
  {
   "metadata": {
    "ExecuteTime": {
     "end_time": "2025-09-28T10:22:32.611399Z",
     "start_time": "2025-09-28T10:22:31.574080Z"
    }
   },
   "cell_type": "code",
   "source": [
    "\n",
    "state = graph.invoke({\"messages\": [{\"role\": \"user\", \"content\": \"Who created NATO\"}]})\n",
    "print(state[\"messages\"][-1].content)  # No need of tool access when other question is asked\n",
    "                                      # that does not require tool acess\n",
    "\n",
    "\n"
   ],
   "id": "99a51edead7a8c1a",
   "outputs": [
    {
     "name": "stdout",
     "output_type": "stream",
     "text": [
      "The North Atlantic Treaty Organization (NATO) was created in the aftermath of World II as a collective‑defence alliance among the United States, Canada and a group of Western European nations.  \n",
      "\n",
      "**Key points about its creation**\n",
      "\n",
      "| Item | Details |\n",
      "|------|---------|\n",
      "| **Founding date** | **4 April 1949** – the North Atlantic Treaty (the “Treaty of Washington”) was signed in Washington, D.C. |\n",
      "| **Founding members** | 12 original signatories: **Belgium, Canada, Denmark, France, Iceland, Italy, Luxembourg, the Netherlands, Norway, Portugal, the United Kingdom, and the United States**. |\n",
      "| **Primary architect** | The idea was championed by **U.S. Secretary of State George C. Marshall** (who also launched the Marshall Plan) and other senior U.S. officials, who saw a trans‑Atlantic security pact as a way to contain Soviet expansion and provide mutual defense for Western democracies. |\n",
      "| **Purpose** | Article 5 of the treaty commits each member to consider an armed attack against one as an attack against all, establishing a collective‑defence system. |\n",
      "| **Location of the treaty signing** | Washington, D.C., at the U.S. State Department. |\n",
      "\n",
      "In short, NATO was created through a joint effort led by the United States (particularly Secretary of State George Marshall) together with Canada and a dozen Western European nations, formalized by the signing of the North Atlantic Treaty on 4 April 1949.\n"
     ]
    }
   ],
   "execution_count": 11
  },
  {
   "metadata": {},
   "cell_type": "code",
   "outputs": [],
   "execution_count": null,
   "source": "#### Now let me  add context and make it agentic",
   "id": "a93713ffbd53344a"
  },
  {
   "metadata": {
    "ExecuteTime": {
     "end_time": "2025-09-28T10:22:36.159095Z",
     "start_time": "2025-09-28T10:22:35.144847Z"
    }
   },
   "cell_type": "code",
   "source": [
    "state = graph.invoke({\"messages\": [{\"role\": \"user\", \"content\":\"I want to buy 20 AMZN stocks using current price. Then 15 MSFT. What will be the total cost?\" }]})\n",
    "print(state[\"messages\"][-1].content)\n",
    "\n",
    "#Its reasoning and its now agentic with multi turn approach as a new edge has been added back from tool to chatbot along\n",
    "\n",
    "#with the conditional edge"
   ],
   "id": "62baf4dfacffd637",
   "outputs": [
    {
     "name": "stdout",
     "output_type": "stream",
     "text": [
      "Here’s the cost breakdown based on the current prices:\n",
      "\n",
      "| Stock | Price per share | Quantity | Sub‑total |\n",
      "|-------|----------------|----------|-----------|\n",
      "| AMZN  | $150.00        | 20       | $3,000.00 |\n",
      "| MSFT  | $200.30        | 15       | $3,004.50 |\n",
      "\n",
      "**Total cost:** **$6,004.50**.\n"
     ]
    }
   ],
   "execution_count": 12
  },
  {
   "metadata": {},
   "cell_type": "code",
   "outputs": [],
   "execution_count": null,
   "source": "# NOW Lets add memory or context",
   "id": "8d65ec6092f8c3c0"
  },
  {
   "metadata": {
    "ExecuteTime": {
     "end_time": "2025-09-28T10:24:31.347100Z",
     "start_time": "2025-09-28T10:24:29.232043Z"
    }
   },
   "cell_type": "code",
   "source": [
    "state = graph.invoke({\"messages\": [{\"role\": \"user\", \"content\":\"using the previous total of 20 amazon and 15 microsoft stock add 15 ril stock and tell me the total cost now\" }]})\n",
    "print(state[\"messages\"][-1].content)"
   ],
   "id": "7dc62d9ca6aafb12",
   "outputs": [
    {
     "name": "stdout",
     "output_type": "stream",
     "text": [
      "Here’s the breakdown:\n",
      "\n",
      "| Stock | Quantity | Price per share | Cost |\n",
      "|-------|----------|----------------|------|\n",
      "| Amazon (AMZN) | 20 | $150.00 | **$3,000.00** |\n",
      "| Microsoft (MSFT) | 15 | $200.30 | **$3,004.50** |\n",
      "| Reliance (RIL) | 15 | $87.60 | **$1,314.00** |\n",
      "| **Total** | — | — | **$7,318.50** |\n",
      "\n",
      "So, after adding the 15 RIL shares, the total cost of all your holdings is **$7,318.50**.\n"
     ]
    }
   ],
   "execution_count": 16
  },
  {
   "metadata": {},
   "cell_type": "code",
   "outputs": [],
   "execution_count": null,
   "source": [
    "#An important think to node its able to recall but its because of appending reducer function.\n",
    "\n",
    "#We will use memory function of langGraph by thread id"
   ],
   "id": "4b5ea60261ad908c"
  },
  {
   "metadata": {},
   "cell_type": "code",
   "outputs": [],
   "execution_count": null,
   "source": [
    "from langgraph.checkpoint.memory import MemorySaver\n",
    "\n",
    "memory = MemorySaver()\n",
    "\n",
    "\n",
    "#checkpointer added during compilation"
   ],
   "id": "72aa918aa675d135"
  },
  {
   "metadata": {
    "ExecuteTime": {
     "end_time": "2025-09-28T10:31:46.324036Z",
     "start_time": "2025-09-28T10:31:43.612812Z"
    }
   },
   "cell_type": "code",
   "source": [
    "config1 = { 'configurable': { 'thread_id': '1'} }  # thread id is 1\n",
    "\n",
    "msg = \"I want to buy 20 AMZN stocks using current price. Then 15 MSFT. What will be the total cost?\"\n",
    "\n",
    "state = graph.invoke({\"messages\": [{\"role\": \"user\", \"content\": msg}]}, config=config1)\n",
    "print(state[\"messages\"][-1].content)"
   ],
   "id": "e89753119829a7b7",
   "outputs": [
    {
     "name": "stdout",
     "output_type": "stream",
     "text": [
      "The total cost would be:\n",
      "\n",
      "- **20 AMZN shares** at **$150.00** each → **$3,000.00**  \n",
      "- **15 MSFT shares** at **$200.30** each → **$3,004.50**\n",
      "\n",
      "**Overall total:** **$6,004.50**.\n"
     ]
    }
   ],
   "execution_count": 19
  },
  {
   "metadata": {
    "ExecuteTime": {
     "end_time": "2025-09-28T10:32:07.148627Z",
     "start_time": "2025-09-28T10:32:06.470582Z"
    }
   },
   "cell_type": "code",
   "source": [
    "config2 = { 'configurable': { 'thread_id': '2'} }  #thread id is 2\n",
    "\n",
    "msg = \"Tell me the current price of 5 AAPL stocks.\"\n",
    "\n",
    "state = graph.invoke({\"messages\": [{\"role\": \"user\", \"content\": msg}]}, config=config2)\n",
    "print(state[\"messages\"][-1].content)"
   ],
   "id": "cc27b2b3b4aeb9c7",
   "outputs": [
    {
     "name": "stdout",
     "output_type": "stream",
     "text": [
      "The current price for Apple (AAPL) is **$100.40** per share.  \n",
      "\n",
      "So, 5 shares would cost:\n",
      "\n",
      "**5 × $100.40 = $502.00**.\n"
     ]
    }
   ],
   "execution_count": 20
  },
  {
   "metadata": {
    "ExecuteTime": {
     "end_time": "2025-09-28T10:32:32.535239Z",
     "start_time": "2025-09-28T10:32:31.642624Z"
    }
   },
   "cell_type": "code",
   "source": [
    "msg = \"Using the current price tell me the total price of 10 RIL stocks and add it to previous total cost\"\n",
    "\n",
    "state = graph.invoke({\"messages\": [{\"role\": \"user\", \"content\": msg}]}, config=config1)\n",
    "print(state[\"messages\"][-1].content)   # its adding this to thread 1 and not 2\n",
    "\n",
    "\n",
    "# so two different context"
   ],
   "id": "b8e295ffa556de95",
   "outputs": [
    {
     "name": "stdout",
     "output_type": "stream",
     "text": [
      "- **10 RIL shares** at **$87.60** each → **$876.00**  \n",
      "\n",
      "Adding this to the earlier total of **$6,004.50** gives:\n",
      "\n",
      "**$6,004.50 + $876.00 = $6,880.50**  \n",
      "\n",
      "So the combined cost for all the shares you mentioned is **$6,880.50**.\n"
     ]
    }
   ],
   "execution_count": 21
  },
  {
   "metadata": {
    "ExecuteTime": {
     "end_time": "2025-09-28T10:33:13.007580Z",
     "start_time": "2025-09-28T10:33:11.154758Z"
    }
   },
   "cell_type": "code",
   "source": [
    "msg = \"Tell me the current price of 5 MSFT stocks and add it to previous total\"\n",
    "\n",
    "state = graph.invoke({\"messages\": [{\"role\": \"user\", \"content\": msg}]}, config=config2)\n",
    "print(state[\"messages\"][-1].content)   # its adding this to thread 2 and not 1"
   ],
   "id": "6e1130ef44140484",
   "outputs": [
    {
     "name": "stdout",
     "output_type": "stream",
     "text": [
      "The current price for Microsoft (MSFT) is **$200.30** per share.\n",
      "\n",
      "- **Cost for 5 MSFT shares:** 5 × $200.30 = **$1,001.50**\n",
      "\n",
      "**Combined total (previous Apple purchase + Microsoft purchase):**  \n",
      "$502.00 (Apple) + $1,001.50 (Microsoft) = **$1,503.50**.\n"
     ]
    }
   ],
   "execution_count": 22
  }
 ],
 "metadata": {
  "kernelspec": {
   "display_name": "Python 3",
   "language": "python",
   "name": "python3"
  },
  "language_info": {
   "codemirror_mode": {
    "name": "ipython",
    "version": 2
   },
   "file_extension": ".py",
   "mimetype": "text/x-python",
   "name": "python",
   "nbconvert_exporter": "python",
   "pygments_lexer": "ipython2",
   "version": "2.7.6"
  }
 },
 "nbformat": 4,
 "nbformat_minor": 5
}
