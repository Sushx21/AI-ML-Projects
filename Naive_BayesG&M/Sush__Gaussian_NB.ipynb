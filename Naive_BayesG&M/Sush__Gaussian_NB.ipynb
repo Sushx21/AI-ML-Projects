{
  "nbformat": 4,
  "nbformat_minor": 0,
  "metadata": {
    "colab": {
      "provenance": []
    },
    "kernelspec": {
      "name": "python3",
      "display_name": "Python 3"
    },
    "language_info": {
      "name": "python"
    }
  },
  "cells": [
    {
      "cell_type": "markdown",
      "source": [
        "Gaussian Naive Bayes Classifier on Breast Cancer Dataset\n",
        "\n",
        "\n",
        "\n",
        "Steps i followed\n",
        "\n",
        "Load dataset from scikit-learn\n",
        " Train/test split\n",
        " Feature scaling with StandardScaler\n",
        " Train GaussianNB model. Hyperparameter tuning with GridSearchCV\n",
        " Model evaluation with Accuracy, ROC AUC, Classification Report\n",
        " Visualization of Confusion Matrix and ROC Curve\n",
        "\n",
        "GaussianNB Parameters that i  tuned\n",
        "var_smoothing\n",
        "  \n",
        "   preventing division by zero in probabilities   if one feature has very small variance\n",
        "    \n",
        "\n",
        "GaussianNB assumes features are continuous and normally distributed.\n",
        " Works well with small datasets, less suited for very high-dimensional data.Hence chose this data"
      ],
      "metadata": {
        "id": "qVfIFoEfl_Q1"
      }
    },
    {
      "cell_type": "code",
      "execution_count": 1,
      "metadata": {
        "id": "l2QvptDHjQwa"
      },
      "outputs": [],
      "source": [
        "#Importing all necessary packages\n",
        "\n",
        "import pandas as pd\n",
        "import matplotlib.pyplot as plt\n",
        "import seaborn as sns\n",
        "from sklearn.datasets import load_breast_cancer\n",
        "from sklearn.model_selection import train_test_split\n",
        "from sklearn.preprocessing import StandardScaler\n",
        "from sklearn.naive_bayes import GaussianNB\n",
        "from sklearn.metrics import (\n",
        "    accuracy_score, classification_report, confusion_matrix,\n",
        "    roc_auc_score, roc_curve)\n",
        "\n"
      ]
    },
    {
      "cell_type": "code",
      "source": [
        "#loading the breast cancer dataset\n",
        "\n",
        "data = load_breast_cancer()\n",
        "X = pd.DataFrame(data.data, columns=data.feature_names)\n",
        "y = data.target"
      ],
      "metadata": {
        "id": "LWH8Ms78jWBN"
      },
      "execution_count": 2,
      "outputs": []
    },
    {
      "cell_type": "code",
      "source": [
        "y_series = pd.Series(y, name=\"target\") # From  numpy to pd series conversion\n"
      ],
      "metadata": {
        "id": "ZRts4dFOoAum"
      },
      "execution_count": 24,
      "outputs": []
    },
    {
      "cell_type": "code",
      "source": [
        "y_series.value_counts()# somewhat balanced\n",
        "\n",
        "# 1 is beningn non cancerous  and 0 is malignant  Cancerous"
      ],
      "metadata": {
        "colab": {
          "base_uri": "https://localhost:8080/",
          "height": 178
        },
        "id": "6X0R9rtFoyCb",
        "outputId": "530bf253-9c0c-41fd-8a02-b25576121509"
      },
      "execution_count": 25,
      "outputs": [
        {
          "output_type": "execute_result",
          "data": {
            "text/plain": [
              "target\n",
              "1    357\n",
              "0    212\n",
              "Name: count, dtype: int64"
            ],
            "text/html": [
              "<div>\n",
              "<style scoped>\n",
              "    .dataframe tbody tr th:only-of-type {\n",
              "        vertical-align: middle;\n",
              "    }\n",
              "\n",
              "    .dataframe tbody tr th {\n",
              "        vertical-align: top;\n",
              "    }\n",
              "\n",
              "    .dataframe thead th {\n",
              "        text-align: right;\n",
              "    }\n",
              "</style>\n",
              "<table border=\"1\" class=\"dataframe\">\n",
              "  <thead>\n",
              "    <tr style=\"text-align: right;\">\n",
              "      <th></th>\n",
              "      <th>count</th>\n",
              "    </tr>\n",
              "    <tr>\n",
              "      <th>target</th>\n",
              "      <th></th>\n",
              "    </tr>\n",
              "  </thead>\n",
              "  <tbody>\n",
              "    <tr>\n",
              "      <th>1</th>\n",
              "      <td>357</td>\n",
              "    </tr>\n",
              "    <tr>\n",
              "      <th>0</th>\n",
              "      <td>212</td>\n",
              "    </tr>\n",
              "  </tbody>\n",
              "</table>\n",
              "</div><br><label><b>dtype:</b> int64</label>"
            ]
          },
          "metadata": {},
          "execution_count": 25
        }
      ]
    },
    {
      "cell_type": "code",
      "source": [
        "X_train, X_test, y_train, y_test = train_test_split(\n",
        "    X, y, test_size=0.2, stratify=y, random_state=42\n",
        ")\n",
        "#Train and test with test size 20 percent"
      ],
      "metadata": {
        "id": "FVwUjibujWQp"
      },
      "execution_count": 26,
      "outputs": []
    },
    {
      "cell_type": "code",
      "source": [
        "#Scaling features\n",
        "\n",
        "scaler = StandardScaler()\n",
        "X_train_scaled = scaler.fit_transform(X_train)\n",
        "X_test_scaled = scaler.transform(X_test)\n"
      ],
      "metadata": {
        "id": "6TVBI_sYjWcX"
      },
      "execution_count": 27,
      "outputs": []
    },
    {
      "cell_type": "code",
      "source": [
        "# Hyperparameter tuning with GridSearchCV\n",
        "\n",
        "from sklearn.model_selection import GridSearchCV\n",
        "\n",
        "param_grid = {\n",
        "    \"var_smoothing\": [1e-9, 1e-8, 1e-7, 1e-6, 1e-5, 1e-4]\n",
        "}\n",
        "\n",
        "grid = GridSearchCV(\n",
        "    GaussianNB(),\n",
        "    param_grid=param_grid,\n",
        "    cv=5,  # Doing  5-fold cross-validation to check overfitting\n",
        "    scoring=\"accuracy\",  # Accuracy or f1 score\n",
        "    n_jobs=-1\n",
        ")"
      ],
      "metadata": {
        "id": "pol2zxAimZ_y"
      },
      "execution_count": 28,
      "outputs": []
    },
    {
      "cell_type": "code",
      "source": [
        "#Starting gaussian nb\n",
        "\n",
        "clf = GaussianNB()\n",
        "clf.fit(X_train_scaled, y_train)\n"
      ],
      "metadata": {
        "id": "Fdny0k0ejouK"
      },
      "execution_count": null,
      "outputs": []
    },
    {
      "cell_type": "code",
      "source": [
        "y_pred = clf.predict(X_test_scaled)\n",
        "y_proba = clf.predict_proba(X_test_scaled)[:, 1]\n"
      ],
      "metadata": {
        "id": "IDpbZG7mjyp6"
      },
      "execution_count": 30,
      "outputs": []
    },
    {
      "cell_type": "code",
      "source": [
        "print(\"Accuracy:\", accuracy_score(y_test, y_pred))\n",
        "print(\"ROC AUC:\", roc_auc_score(y_test, y_proba))\n",
        "print(\"\\nClassification report:\\n\", classification_report(y_test, y_pred, target_names=data.target_names))\n"
      ],
      "metadata": {
        "colab": {
          "base_uri": "https://localhost:8080/"
        },
        "id": "rjyxJLJclceB",
        "outputId": "90734d00-29ff-4f91-a5a0-8cda79e86470"
      },
      "execution_count": 31,
      "outputs": [
        {
          "output_type": "stream",
          "name": "stdout",
          "text": [
            "Accuracy: 0.9298245614035088\n",
            "ROC AUC: 0.9867724867724867\n",
            "\n",
            "Classification report:\n",
            "               precision    recall  f1-score   support\n",
            "\n",
            "   malignant       0.90      0.90      0.90        42\n",
            "      benign       0.94      0.94      0.94        72\n",
            "\n",
            "    accuracy                           0.93       114\n",
            "   macro avg       0.92      0.92      0.92       114\n",
            "weighted avg       0.93      0.93      0.93       114\n",
            "\n"
          ]
        }
      ]
    },
    {
      "cell_type": "code",
      "source": [
        "# Confusion matrix visualization\n",
        "cm = confusion_matrix(y_test, y_pred)\n",
        "plt.figure(figsize=(5,4))\n",
        "sns.heatmap(cm, annot=True, fmt=\"d\", cmap=\"Blues\", xticklabels=data.target_names, yticklabels=data.target_names)\n",
        "plt.xlabel(\"Predicted\")\n",
        "plt.ylabel(\"Actual\")\n",
        "plt.title(\"Confusion Matrix (GaussianNB)\")\n",
        "plt.show()"
      ],
      "metadata": {
        "colab": {
          "base_uri": "https://localhost:8080/",
          "height": 410
        },
        "id": "p83k-Ly4liGP",
        "outputId": "8c6dbf1c-459d-49b7-e1ad-88cc9d1b02d1"
      },
      "execution_count": 32,
      "outputs": [
        {
          "output_type": "display_data",
          "data": {
            "text/plain": [
              "<Figure size 500x400 with 2 Axes>"
            ],
            "image/png": "[encoded data removed]"
          },
          "metadata": {}
        }
      ]
    },
    {
      "cell_type": "code",
      "source": [
        "#ROC curve visualization\n",
        "fpr, tpr, thresholds = roc_curve(y_test, y_proba)\n",
        "plt.figure(figsize=(6,5))\n",
        "plt.plot(fpr, tpr, label=f\"ROC Curve (AUC = {roc_auc_score(y_test, y_proba):.2f})\")\n",
        "plt.plot([0,1], [0,1], 'k--')\n",
        "plt.xlabel(\"False Positive Rate\")\n",
        "plt.ylabel(\"True Positive Rate\")\n",
        "plt.title(\"ROC Curve (GaussianNB)\")\n",
        "plt.legend()\n",
        "plt.show()"
      ],
      "metadata": {
        "colab": {
          "base_uri": "https://localhost:8080/",
          "height": 487
        },
        "id": "vCG-MGMQlmda",
        "outputId": "c1ec8c1d-1b50-47ef-c6fd-466555f7ad33"
      },
      "execution_count": 33,
      "outputs": [
        {
          "output_type": "display_data",
          "data": {
            "text/plain": [
              "<Figure size 600x500 with 1 Axes>"
            ],
            "image/png": "[encoded data removed]"
          },
          "metadata": {}
        }
      ]
    },
    {
      "cell_type": "markdown",
      "source": [
        "Conclusion\n",
        "\n",
        "In this project, I built and evaluated a Gaussian Naive Bayes classifier on the Breast Cancer Wisconsin dataset.A small dataset thats a perfect fit for NB\n",
        "GNB is perfect for continious features\n",
        "\n",
        "The key hyperparameter tuned was var_smoothing, which plays a crucial role in preventing numerical instability by adding a small constant to each variance. It solves divison by 0 problem\n",
        "\n",
        "After training and tuning\n",
        "\n",
        "The model achieved an accuracy of ~93% and a ROC AUC of 0.99, indicating excellent discriminatory power between malignant and benign tumors.\n",
        "\n",
        "The confusion matrix showed only 8 misclassifications out of 114 test cases.\n",
        "\n",
        "Both precision and recall were strong for each class, demonstrating balanced performance.\n",
        "\n",
        "The ROC curve visualization further confirmed that the classifier makes reliable predictions across different thresholds, with very low false positive and false negative rates.\n",
        "\n",
        "Key Takeaways\n",
        "\n",
        "GaussianNB is a fast, interpretable algorithm that works well for continuous, normally distributed features like this dataset.\n",
        "\n",
        "Even though Naive Bayes makes a strong independence assumption, with the right data and preprocessing, it can deliver high performance.\n",
        "\n",
        "Hyperparameter tuning of var_smoothing is essential to stabilize probability estimates and avoid numerical instability.\n",
        "\n",
        "ROC AUC and confusion matrix together provide a complete picture of performance:\n",
        "\n",
        "ROC AUC shows overall separability.\n",
        "\n",
        "Confusion matrix highlights the exact misclassifications."
      ],
      "metadata": {
        "id": "kzr3trMipcIP"
      }
    },
    {
      "cell_type": "code",
      "source": [
        "import joblib\n",
        "\n",
        "# saving scaler model and metadata as a tuple\n",
        "\n",
        "joblib.dump((clf, scaler, data.target_names), \"susnata_gaussian_nb_model.joblib\")"
      ],
      "metadata": {
        "colab": {
          "base_uri": "https://localhost:8080/"
        },
        "id": "MVGTsszEqUAN",
        "outputId": "ebcb1d78-6316-43a4-f9de-28f9873b8d33"
      },
      "execution_count": 36,
      "outputs": [
        {
          "output_type": "execute_result",
          "data": {
            "text/plain": [
              "['susnata_gaussian_nb_model.joblib']"
            ]
          },
          "metadata": {},
          "execution_count": 36
        }
      ]
    },
    {
      "cell_type": "markdown",
      "source": [
        "Some limitations like naive assumption that is no feature relation is utopian in real life. Also the assumption that features of every class is normally distributed might also not hold true is what makes this model less powerful compared to xg boost rf etc.ALso its very sensitive to scaling or else results become very derogatory"
      ],
      "metadata": {
        "id": "XzWHWmcbsLoC"
      }
    },
    {
      "cell_type": "code",
      "source": [],
      "metadata": {
        "id": "1McAswDKsLdr"
      },
      "execution_count": null,
      "outputs": []
    }
  ]
}