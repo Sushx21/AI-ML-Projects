{
  "nbformat": 4,
  "nbformat_minor": 0,
  "metadata": {
    "colab": {
      "provenance": []
    },
    "kernelspec": {
      "name": "python3",
      "display_name": "Python 3"
    },
    "language_info": {
      "name": "python"
    }
  },
  "cells": [
    {
      "cell_type": "markdown",
      "source": [
        "### Susnata's Chi squared test of goodness of fit\n",
        "\n",
        "I  will use chi squared goodness of fit test to figure out if phones are selling as per expected numbers or not. We have total 4 types of phones.Moreover chi square is a utilised in categorical variables"
      ],
      "metadata": {
        "id": "wD7fTnKyP3ZA"
      }
    },
    {
      "cell_type": "markdown",
      "source": [
        "There is a business manager who has propunded the expected sales as below"
      ],
      "metadata": {
        "id": "XlX5VCe4QZ6K"
      }
    },
    {
      "cell_type": "markdown",
      "source": [
        "Null Hypothesis (H₀):** The observed phone sales match the expected sales distribution proposed by the business manager.\n",
        "\n",
        "Alternate Hypothesis (H₁):** The observed phone sales differ significantly from the expected sales distribution."
      ],
      "metadata": {
        "id": "8sFiiFwGRg5C"
      }
    },
    {
      "cell_type": "code",
      "execution_count": 11,
      "metadata": {
        "colab": {
          "base_uri": "https://localhost:8080/"
        },
        "id": "NSRuqt6TPeTl",
        "outputId": "4303ea24-dc30-44e8-e2d0-4ccf19618ae0"
      },
      "outputs": [
        {
          "output_type": "execute_result",
          "data": {
            "text/plain": [
              "(np.float64(2.232142857142857), np.float64(0.5256450109609307))"
            ]
          },
          "metadata": {},
          "execution_count": 11
        }
      ],
      "source": [
        "import numpy as np\n",
        "\n",
        "expected = np.array([40, 60, 30, 70])  #Lets say these correspond to iphone , Samsung ,Nothing and one plus\n",
        "actual = np.array([45, 55, 35, 65])\n",
        "\n",
        "import scipy.stats as stats\n",
        "\n",
        "chi_square_statistic, p_value = stats.chisquare(actual, expected)\n",
        "chi_square_statistic, p_value"
      ]
    },
    {
      "cell_type": "code",
      "source": [
        "significance_level = 0.05\n",
        "\n",
        "p_value < significance_level"
      ],
      "metadata": {
        "colab": {
          "base_uri": "https://localhost:8080/"
        },
        "id": "giaGf8XePo_c",
        "outputId": "63c465d3-e901-4621-9a01-3a2c47be96b5"
      },
      "execution_count": 12,
      "outputs": [
        {
          "output_type": "execute_result",
          "data": {
            "text/plain": [
              "np.False_"
            ]
          },
          "metadata": {},
          "execution_count": 12
        }
      ]
    },
    {
      "cell_type": "markdown",
      "source": [
        "p value is not less than significance level which means that I can not reject null hypothesis.\n",
        "Meaning that the expected numbers are a good approximation and they do represent the reality.\n",
        "The business manager’s expected sales strategy aligns well with reality, indicating that the predicted sales model is statistically effective"
      ],
      "metadata": {
        "id": "TqedvBDIQxrY"
      }
    },
    {
      "cell_type": "code",
      "source": [],
      "metadata": {
        "id": "S6h0rrSsRu3w"
      },
      "execution_count": null,
      "outputs": []
    }
  ]
}