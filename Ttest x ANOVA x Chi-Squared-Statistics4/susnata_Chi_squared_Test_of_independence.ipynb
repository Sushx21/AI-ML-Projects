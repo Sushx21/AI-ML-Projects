{
  "nbformat": 4,
  "nbformat_minor": 0,
  "metadata": {
    "colab": {
      "provenance": []
    },
    "kernelspec": {
      "name": "python3",
      "display_name": "Python 3"
    },
    "language_info": {
      "name": "python"
    }
  },
  "cells": [
    {
      "cell_type": "markdown",
      "source": [
        "Problem Statement: I have a mobile phone store selling Apple iphones and Samsung galaxies S series .\n",
        "\n",
        "I have sales data for age group less than 30 and >= 30.\n",
        "\n",
        "Based on this figureout if these two variables (i.e. type of the phone and age group) have dependance or not. I  need to form a null and alternate hypothesis for this which is as below\n",
        "\n",
        "1. NULL Hypothesis: There is no association between phone preference and age group\n",
        "2. Alternate Hypothesis: There is an association between phone preference and age group    "
      ],
      "metadata": {
        "id": "ao8TNUaaWJCF"
      }
    },
    {
      "cell_type": "code",
      "source": [
        "import numpy as np"
      ],
      "metadata": {
        "id": "TjPrBHrZWkiZ"
      },
      "execution_count": 2,
      "outputs": []
    },
    {
      "cell_type": "code",
      "execution_count": 3,
      "metadata": {
        "colab": {
          "base_uri": "https://localhost:8080/"
        },
        "id": "JW73m1QzV5qC",
        "outputId": "7c1dad78-dddb-487e-a47d-3d9e13f304ec"
      },
      "outputs": [
        {
          "output_type": "execute_result",
          "data": {
            "text/plain": [
              "(np.float64(17.267219387755098),\n",
              " np.float64(3.247411250228346e-05),\n",
              " 1,\n",
              " array([[37.33333333, 42.66666667],\n",
              "        [32.66666667, 37.33333333]]))"
            ]
          },
          "metadata": {},
          "execution_count": 3
        }
      ],
      "source": [
        "from scipy.stats import chi2_contingency\n",
        "\n",
        "# Observed frequencies for product preferences across two age groups\n",
        "actual_count = np.array([\n",
        "    [50, 30],  # Under 30: 50 prefer iPhone, 30 prefer Samsung Galaxy\n",
        "    [20, 50]   # 30 & Over: 20 prefer Product iPhone, 50 prefer Samsung Galaxy\n",
        "])\n",
        "\n",
        "chi2_statistic, p_value, df, expected_count = chi2_contingency(actual_count, correction=False)#yates correction used on 2x2 table\n",
        "                                                                                        # to make test more accurate but i have disabled it\n",
        "chi2_statistic, p_value, df, expected_count"
      ]
    },
    {
      "cell_type": "markdown",
      "source": [
        "#### Hypothesis Testing Using Rejection Region"
      ],
      "metadata": {
        "id": "w6bHmJqlXCB-"
      }
    },
    {
      "cell_type": "code",
      "source": [
        "chi2_critical = 3.84 # The value from chi-squared table for df = 1 and alpha = 0.05  df is 1 as 2-1 x2-1 ,its n-1 from rowe and columns\n",
        "\n",
        "chi2_statistic > chi2_critical"
      ],
      "metadata": {
        "colab": {
          "base_uri": "https://localhost:8080/"
        },
        "id": "gUoDs4YNWBZh",
        "outputId": "d7ec1155-62e5-4e9b-8481-5d1f18268591"
      },
      "execution_count": 4,
      "outputs": [
        {
          "output_type": "execute_result",
          "data": {
            "text/plain": [
              "np.True_"
            ]
          },
          "metadata": {},
          "execution_count": 4
        }
      ]
    },
    {
      "cell_type": "markdown",
      "source": [
        "Chi-squared statistic is greater than the critical value which means we can reject the null hypothesis. This means that there is indeed a dependance between the kind of phone people prefer and the age group"
      ],
      "metadata": {
        "id": "hxBISWo5XmEl"
      }
    },
    {
      "cell_type": "markdown",
      "source": [
        "#### Hypothesis Testing Using p Value"
      ],
      "metadata": {
        "id": "MLWxglUYXqyP"
      }
    },
    {
      "cell_type": "code",
      "source": [
        "alpha = 0.05\n",
        "\n",
        "p_value < alpha"
      ],
      "metadata": {
        "colab": {
          "base_uri": "https://localhost:8080/"
        },
        "id": "B9Z8jpRGWDvS",
        "outputId": "d14dbb76-1fc3-4bad-e7fe-b01ee4b7155e"
      },
      "execution_count": 5,
      "outputs": [
        {
          "output_type": "execute_result",
          "data": {
            "text/plain": [
              "np.True_"
            ]
          },
          "metadata": {},
          "execution_count": 5
        }
      ]
    },
    {
      "cell_type": "markdown",
      "source": [
        "The Calculated p value is less than the alpha (0.05) which means we can reject the null hypothesis. This means that there is indeed a dependance between the kind of phone people prefer and the age group\n",
        "\n",
        "\n",
        "Also prima facie people below 30 seems more intrested in iphones"
      ],
      "metadata": {
        "id": "uCqtHLH8Xuw-"
      }
    }
  ]
}